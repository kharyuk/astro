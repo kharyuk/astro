{
 "cells": [
  {
   "cell_type": "markdown",
   "metadata": {},
   "source": [
    "# Соединения Солнца и Астрономических Объектов"
   ]
  },
  {
   "cell_type": "markdown",
   "metadata": {},
   "source": [
    "## Список соединений на один день (база данных V50)"
   ]
  },
  {
   "cell_type": "code",
   "execution_count": 1,
   "metadata": {
    "collapsed": false
   },
   "outputs": [
    {
     "name": "stdout",
     "output_type": "stream",
     "text": [
      "\n",
      "Catalogue VII/239A/icpos: mean position of NGC/IC objects\n",
      " 13: 0:54.92.. 13: 8:16.81 -22:15: 6.4 ..+ 8:30:13.7 \n",
      "========================================================================================\n",
      "Date        Time        NGC/IC       Cat          RAJ2000      DEJ2000      Dec distance\n",
      "========================================================================================\n",
      "11/10/2015  10:11:45.61         4136            I  13: 4:19.04 - 7:38:57.5  + 0:50:56.8 \n",
      "11/10/2015  14:10:24.36         4156            I  13: 4:55.66 - 7:56:48.0  + 1: 5: 1.51\n",
      "11/10/2015   7:32:10.41         4173            I  13: 3:54.58 -11:30:20.6  + 4:44:50.98\n",
      "11/10/2015   7:47:42.09         4176            I  13: 3:56.96 -11:29:50.7  + 4:44: 6.38\n",
      "11/10/2015   1:39:20.04         4928            N  13: 3: 0.5  - 8: 5: 5.0  + 1:25: 9.63\n",
      "11/10/2015   7:47:42.09         4933            N  13: 3:56.96 -11:29:50.2  + 4:44: 5.88\n",
      "11/10/2015   7:32:10.41         4933            N  13: 3:54.58 -11:30:20.6  + 4:44:50.98\n",
      "11/10/2015   8:15:25.81         4933            N  13: 4: 1.21 -11:29:26.8  + 4:43:16.22\n",
      "11/10/2015   9:42: 0.54         4939            N  13: 4:14.48 -10:20:24.7  + 3:32:52.16\n",
      "11/10/2015   9:33: 1.88         4941            N  13: 4:13.1  - 5:33: 6.55 - 1:14:17.49\n",
      "11/10/2015  10:11:45.61         4942            N  13: 4:19.04 - 7:38:57.5  + 0:50:56.8 \n",
      "11/10/2015  14:10:24.36         4948            N  13: 4:55.66 - 7:56:48.0  + 1: 5: 1.51\n",
      "11/10/2015  15:14:28.18         4948            N  13: 5: 5.5  - 8: 9:38.0  + 1:16:50.93\n",
      "11/10/2015  15:28: 8.51         4951            N  13: 5: 7.6  - 6:29:41.0  - 0:23:19.0 \n",
      "11/10/2015  19:57: 1.61         4958            N  13: 5:48.9  - 8: 1:15.0  + 1: 4: 0.84\n",
      "\n"
     ]
    },
    {
     "name": "stderr",
     "output_type": "stream",
     "text": [
      "/home/hariyuki/downloads/ap/lib/python2.7/site-packages/astroquery/vizier/core.py:685: UserWarning: VOTABLE parsing raised exception: \n",
      "  warnings.warn(\"VOTABLE parsing raised exception: {0}\".format(ex))\n"
     ]
    }
   ],
   "source": [
    "from suneph import alex_se\n",
    "from compute import *\n",
    "from utils import parse_date, parse_coord\n",
    "import time\n",
    "\n",
    "from vdb import process_vdb, handle_date\n",
    "\n",
    "day = int(time.strftime(\"%d\"))\n",
    "month = int(time.strftime(\"%m\"))\n",
    "year = int('20' + time.strftime('%y'))\n",
    "\n",
    "records = alex_se(loadfile = 'sun_ephemeris.npz')\n",
    "\n",
    "catalogs = ['V/50', 'VII/239A/icpos']\n",
    "        \n",
    "handle_date([day, month, year], records, catalogs[1])"
   ]
  },
  {
   "cell_type": "markdown",
   "metadata": {},
   "source": [
    "## Список соединений на один месяц (база данных V50)"
   ]
  },
  {
   "cell_type": "code",
   "execution_count": 4,
   "metadata": {
    "collapsed": false,
    "scrolled": true
   },
   "outputs": [
    {
     "name": "stdout",
     "output_type": "stream",
     "text": [
      "Catalogue V50: stars with m <= 6.5\n",
      "=====================================================================================================\n",
      "Date        Time        Name         HD           Vmag         RAJ2000      DEJ2000      Dec distance\n",
      "=====================================================================================================\n",
      " 1/10/2015   9:11:23.81                    108471         6.37  12:27:42.1  + 8:36:37.0  -11:32:57.03\n",
      " 1/10/2015   9:59:52.36                    108477         6.35  12:27:49.4  -16:37:55.0  +13:40:47.86\n",
      " 1/10/2015  10:14:28.91                    108506         6.22  12:27:51.6  - 4:36:55.0  + 1:39:33.66\n",
      " 1/10/2015  23:32:24.74     7Del Crv       108767         2.95  12:29:51.9  -16:30:56.0  +13:20:39.5 \n",
      "\n",
      " 2/10/2015   0:57:57.65                    108799         6.35  12:30: 4.8  -13:23:35.0  +10:11:55.43\n",
      " 2/10/2015   9:25:56.78                    108985         6.05  12:31:21.4  + 7:36:15.0  -10:56: 7.69\n",
      " 2/10/2015  11:20:40.45                    109014         6.19  12:31:38.7  - 5: 3: 9.0  + 1:41:24.98\n",
      " 2/10/2015  14: 9:35.09     8Eta Crv       109085         4.31  12:32: 4.2  -16:11:46.0  +12:47:18.09\n",
      " 2/10/2015  17:40: 9.1                     109141         5.74  12:32:36.0  -13:51:33.0  +10:23:40.83\n",
      " 2/10/2015  20:38:16.37    20    Vir       109217         6.26  12:33: 2.9  +10:17:44.0  -13:48:28.92\n",
      "\n",
      " 3/10/2015   0: 6:11.47                    109272         5.58  12:33:34.3  -12:49:49.0  + 9:15:42.48\n",
      " 3/10/2015   1:28:57.67    21    Vir       109309         5.48  12:33:46.8  - 9:27: 7.0  + 5:51:40.24\n",
      " 3/10/2015  21:23:58.02    25    Vir       109704         5.87  12:36:47.4  - 5:49:55.0  + 1:55:10.67\n",
      "\n",
      " 4/10/2015   5:53: 3.47                    109860         6.33  12:38: 4.4  + 3:16:57.0  - 7:19:53.91\n",
      " 4/10/2015   7:52: 3.97                    109896         5.71  12:38:22.4  + 1:51:17.0  - 5:56: 9.01\n",
      " 4/10/2015   8:42:18.84                    109914         7.08  12:38:30.0  + 6:59:18.0  -11: 4:58.6 \n",
      " 4/10/2015  10:18:50.58                    109931          6.0  12:38:44.6  -18:15: 1.0  +14: 7:47.07\n",
      " 4/10/2015  13:38:20.99    26Chi Vir       110014         4.66  12:39:14.8  - 7:59:44.0  + 3:49:17.2 \n",
      "\n",
      " 5/10/2015   2:58:20.99                    110317         6.08  12:41:16.0  -13: 0:49.0  + 8:37:29.41\n",
      " 5/10/2015   2:59:40.2                     110318         5.98  12:41:16.2  -13: 0:54.0  + 8:37:33.14\n",
      " 5/10/2015   4:59:48.12    27    Vir       110377         6.19  12:41:34.4  +10:25:35.0  -14:50:51.83\n",
      " 5/10/2015   5:34: 7.52    29Gam Vir       110379         3.65  12:41:39.6  - 1:26:58.0  - 2:58:51.95\n",
      " 5/10/2015   5:34: 7.52    29Gam Vir       110380         3.68  12:41:39.6  - 1:26:58.0  - 2:58:51.95\n",
      " 5/10/2015   6:37:29.5                     110385         6.03  12:41:49.2  -19:45:31.0  +15:18:39.89\n",
      " 5/10/2015   7: 3:14.06    30Rho Vir       110411         4.88  12:41:53.1  +10:14: 8.0  -14:41:23.95\n",
      " 5/10/2015   7:29:38.22    31    Vir       110423         5.59  12:41:57.1  + 6:48:24.0  -11:16: 5.43\n",
      " 5/10/2015  18:35:36.87                    110646         5.93  12:43:38.1  - 1:34:37.0  - 3: 3:46.72\n",
      "\n",
      " 6/10/2015   7:39:43.64    32    Vir       110951         5.22  12:45:37.1  + 7:40:24.0  -12:31:23.01\n",
      " 6/10/2015  12:38:48.31    33    Vir       111028         5.67  12:46:22.5  + 9:32:24.0  -14:28:10.82\n",
      " 6/10/2015  17: 0:34.53                    111133         6.34  12:47: 2.3  + 5:57: 3.0  -10:57: 1.59\n",
      " 6/10/2015  20:25: 7.48                    111199         6.26  12:47:33.4  - 6:18: 7.0  + 1:14:51.76\n",
      " 6/10/2015  22:23:30.8     35    Vir       111239         6.41  12:47:51.4  + 3:34:22.0  - 8:39:31.02\n",
      "\n",
      " 7/10/2015  21:33:28.75                    111720         6.41  12:51:22.9  -10:20:18.0  + 4:52:55.08\n",
      " 7/10/2015  23: 5:22.98    37    Vir       111765         6.02  12:51:36.9  + 3: 3:24.0  - 8:32:14.98\n",
      "\n",
      " 8/10/2015   9:24:25.21    38    Vir       111998         6.11  12:53:11.2  - 3:33:11.0  - 2: 5:32.7 \n",
      " 8/10/2015  12:20:57.99                    112048         6.44  12:53:38.1  - 4:13:26.0  - 1:28: 6.59\n",
      " 8/10/2015  16:46:58.67                    112131          6.0  12:54:18.7  -11:38:55.0  + 5:53: 8.06\n",
      " 8/10/2015  17: 3:21.47    40Psi Vir       112142         4.79  12:54:21.2  - 9:32:20.0  + 3:46:17.4 \n",
      "\n",
      " 9/10/2015   1:14:45.5     43Del Vir       112300         3.38  12:55:36.2  + 3:23:51.0  - 9:17:43.04\n",
      " 9/10/2015   3: 6:47.86                    112304         6.17  12:55:53.3  -15:19:37.0  + 9:23:58.0 \n",
      "\n",
      "10/10/2015   3:46:52.79    44    Vir       112846         5.79  12:59:39.5  - 3:48:43.0  - 2:30:26.25\n",
      "10/10/2015   9:55:38.47    46    Vir       112992         5.99  13: 0:35.9  - 3:22: 7.0  - 3: 2:52.81\n",
      "\n",
      "11/10/2015   6:36:50.79                    113415         5.58  13: 3:46.1  -20:34:59.0  +13:50:21.77\n",
      "11/10/2015   7:30:59.94    48    Vir       113459         6.59  13: 3:54.4  - 3:39:48.0  - 3: 5:40.51\n",
      "\n",
      "12/10/2015   9:30:11.56    49    Vir       114038         5.19  13: 7:53.8  -10:44:25.0  + 3:34:23.41\n",
      "12/10/2015  13:41:54.92                    114113         5.55  13: 8:32.5  - 8:59: 4.0  + 1:45: 5.22\n",
      "12/10/2015  18:14: 4.75                    114203         6.32  13: 9:14.4  - 9:32:18.0  + 2:14: 2.97\n",
      "12/10/2015  21:34:47.51    50    Vir       114287         5.94  13: 9:45.3  -10:19:46.0  + 2:58:22.14\n",
      "12/10/2015  22:50:47.39    51The Vir       114330         4.38  13: 9:57.0  - 5:32:20.0  - 1:50:15.34\n",
      "\n",
      "13/10/2015  12:32:24.19    53    Vir       114642         5.04  13:12: 3.5  -16:11:55.0  + 8:36:28.09\n",
      "13/10/2015  21:32:14.47    54    Vir       114846         6.28  13:13:26.8  -18:49:36.0  +11: 5:43.23\n",
      "\n",
      "14/10/2015   2:18: 2.27    55    Vir       114946         5.33  13:14:10.9  -19:55:51.0  +12: 7:30.79\n",
      "14/10/2015  13:57: 1.24    57    Vir       115202         5.22  13:15:58.8  -19:56:35.0  +11:57:21.79\n",
      "14/10/2015  16:49:38.53                    115308         6.68  13:16:25.5  - 1:23:26.0  - 6:38:28.23\n",
      "14/10/2015  23:46: 0.17                    115488         6.37  13:17:29.9    0:40:36.0  - 8: 8:22.23\n",
      "\n",
      "15/10/2015   0:27:22.81    60Sig Vir       115521          4.8  13:17:36.3  + 5:28:11.0  -13:37:11.75\n",
      "15/10/2015   5:37:42.67    61    Vir       115617         4.74  13:18:24.3  -18:18:41.0  +10: 4:51.48\n",
      "15/10/2015   8:58: 7.99    46Gam Hya       115659          3.0  13:18:55.3  -23:10:18.0  +14:53:22.15\n",
      "15/10/2015   8:30:58.75                    115709         6.62  13:18:51.1  + 3:41:16.0  -11:57:46.62\n",
      "15/10/2015  20:24: 9.87                    115995         6.26  13:20:41.6  + 2:56:30.0  -11:24: 2.61\n",
      "\n",
      "16/10/2015   1:35:40.78                    116061         6.21  13:21:29.9  -19:29:20.0  +10:56:58.79\n",
      "16/10/2015   2:51: 8.39                    116160         5.69  13:21:41.6  + 2: 5:14.0  -10:38:45.07\n",
      "16/10/2015   5:52:22.4     64    Vir       116235         5.87  13:22: 9.7  + 5: 9:17.0  -13:45:35.77\n",
      "16/10/2015  11:23:52.94    63    Vir       116292         5.37  13:23: 1.1  -17:44: 7.0  + 9: 2:41.77\n",
      "16/10/2015  13:18:29.08    65    Vir       116365         5.89  13:23:18.9  - 4:55:28.0  - 3:47:43.08\n",
      "16/10/2015  21:16:28.13    66    Vir       116568         5.75  13:24:33.2  - 5: 9:50.0  - 3:40:42.05\n",
      "\n",
      "17/10/2015   1:23:30.15    67Alp Vir       116658         0.98  13:25:11.6  -11: 9:41.0  + 2:15:21.38\n",
      "17/10/2015   7:48:12.35                    116831         5.97  13:26:11.4  - 1:11:33.0  - 7:48:40.58\n",
      "17/10/2015  11:12:46.83    68    Vir       116870         5.25  13:26:43.2  -12:42:28.0  + 3:39: 6.42\n",
      "17/10/2015  15:55:15.08    69    Vir       116976         4.76  13:27:27.2  -15:58:25.0  + 6:50:44.09\n",
      "\n",
      "18/10/2015   3:26:22.46                    117267         6.43  13:29:14.9  - 1:21:52.0  - 7:56:22.12\n",
      "18/10/2015   6:25:24.71                    117287         4.97  13:29:42.8  -23:16:53.0  +13:55:55.15\n",
      "18/10/2015  11: 0:42.35    72    Vir       117436         6.09  13:30:25.7  - 6:28:13.0  - 2:56:56.37\n",
      "18/10/2015  21:22:18.24    73    Vir       117661         6.01  13:32: 2.8  -18:43:44.0  + 9: 9: 7.82\n",
      "18/10/2015  20:50:56.64    74    Vir       117675         4.69  13:31:57.9  - 6:15:21.0  - 3:18:46.62\n",
      "\n",
      "19/10/2015   2:35:15.84    75    Vir       117789         5.55  13:32:51.7  -15:21:47.0  + 5:42:26.03\n",
      "19/10/2015   3:16:13.44    76    Vir       117818         5.21  13:32:58.1  -10: 9:54.0  + 0:29:55.79\n",
      "19/10/2015   3:32:51.84                    117833         6.68  13:33: 0.7  - 7:11:42.0  - 2:28:31.34\n",
      "19/10/2015  10:42:56.64    78    Vir       118022         4.94  13:34: 7.9  + 3:39:32.0  -13:26:15.96\n",
      "19/10/2015  14:11:14.39                    118054         5.91  13:34:40.5  -13:12:52.0  + 3:22:59.14\n",
      "19/10/2015  14:18:15.69    79Zet Vir       118098         3.37  13:34:41.6    0:35:45.0  - 9:49:59.23\n",
      "19/10/2015  19:35:30.57    80    Vir       118219         5.73  13:35:31.3  - 5:23:46.0  - 4:31: 0.59\n",
      "\n",
      "\n",
      "21/10/2015   9:47:16.78                    119086         6.59  13:41:30.9  -23:26:59.0  +12:57:49.33\n",
      "21/10/2015  10:24:50.16    82    Vir       119149         5.01  13:41:36.8  - 8:42:11.0  - 1:47:32.28\n",
      "21/10/2015  19:36:44.69    84    Vir       119425         5.36  13:43: 3.7  + 3:32:17.0  -14:10:13.55\n",
      "\n",
      "22/10/2015   0:57:57.48                    119537         6.51  13:43:54.3  - 5:29:56.0  - 5:12:47.0 \n",
      "22/10/2015   4:43:18.91    83    Vir       119605          5.6  13:44:29.8  -16:10:45.0  + 5:24:41.33\n",
      "22/10/2015   6:24:14.98                    119623         6.21  13:44:45.7  -25:30: 3.0  +14:42:29.52\n",
      "22/10/2015  11:49:16.3                     119752         5.81  13:45:36.9  -26: 6:58.0  +15:14:35.66\n",
      "22/10/2015  11:37:50.71    85    Vir       119786         6.19  13:45:35.1  -15:46: 3.0  + 4:53:50.81\n",
      "22/10/2015  13:52: 5.91    86    Vir       119853         5.51  13:45:56.3  -12:25:36.0  + 1:31:24.63\n",
      "22/10/2015  22: 0:44.94                    120033         6.05  13:47:13.5  - 9:42:33.0  - 1:18:51.43\n",
      "22/10/2015  23:16: 4.33    87    Vir       120052         5.43  13:47:25.4  -17:51:36.0  + 6:49: 4.91\n",
      "\n",
      "23/10/2015  14:45:25.25    89    Vir       120452         4.97  13:49:52.3  -18: 8: 3.0  + 6:51:51.79\n",
      "23/10/2015  19:11:45.61                    120544         6.53  13:50:34.5  -19:53:50.0  + 8:33:44.54\n",
      "\n",
      "24/10/2015   0: 1:27.1                     120690         6.45  13:51:20.4  -24:23:27.0  +12:59: 7.14\n",
      "24/10/2015  21:12:48.33    90    Vir       121299         5.15  13:54:42.1  - 1:30:11.0  -10:12:40.32\n",
      "24/10/2015  22:54: 6.98                    121325         6.19  13:54:58.2  - 8: 3:32.0  - 3:40:47.53\n",
      "\n",
      "25/10/2015   8:18:33.79    92    Vir       121607         5.91  13:56:27.9  + 1: 3: 2.0  -12:55:32.03\n",
      "25/10/2015  14:34:22.92                    121699         6.14  13:57:27.7  -23: 1:22.0  +11: 3:26.31\n",
      "25/10/2015  21:12: 5.96    47    Hya       121847         5.15  13:58:31.1  -24:58:20.0  +12:54:40.49\n",
      "\n",
      "26/10/2015   6:30:24.54    48    Hya       122066         5.77  14: 0: 0.1  -25: 0:37.0  +12:48:56.28\n",
      "26/10/2015   5:22:39.55                    122106          6.4  13:59:49.3  - 3:32:59.0  - 8:37:43.41\n",
      "26/10/2015  16:48:40.52    93Tau Vir       122408         4.26  14: 1:38.8  + 1:32:40.0  -13:53:11.63\n",
      "26/10/2015  21:23:50.56                    122430         5.48  14: 2:22.8  -27:25:48.0  +15: 1:20.75\n",
      "\n",
      "27/10/2015   6:48:33.65                    122703          6.3  14: 3:53.1  -22:25:18.0  + 9:52:48.53\n",
      "27/10/2015   9: 3: 1.05                    122815         6.39  14: 4:14.6  - 5:22:53.0  - 7:11:31.02\n",
      "27/10/2015  10:20:33.87                    122837         6.28  14: 4:27.0  -14:58:18.0  + 2:22:47.96\n",
      "27/10/2015  11:26:13.77                    122910         6.28  14: 4:37.5  + 2:17:51.0  -14:54:16.92\n",
      "27/10/2015  15:13:51.7                     122958         6.56  14: 5:14.0  -16:20: 9.0  + 3:40:29.56\n",
      "27/10/2015  22:19:36.57    49Pi  Hya       123123         3.27  14: 6:22.3  -26:40:57.0  +13:55:16.42\n",
      "\n",
      "28/10/2015   0:27:23.77    95    Vir       123255         5.46  14: 6:42.8  - 9:18:48.0  - 3:28:40.77\n",
      "28/10/2015  14:45:50.45    96    Vir       123630         6.47  14: 9: 0.6  -10:20: 4.0  - 2:39:29.14\n",
      "\n",
      "29/10/2015   2: 8:42.87                    123934         4.91  14:10:50.5  -16:18: 7.0  + 3: 9: 0.74\n",
      "29/10/2015   6:21:36.47                    124115         6.43  14:11:31.2  + 1:21:44.0  -14:34:21.8 \n",
      "29/10/2015  11:52:47.53                    124162         6.34  14:12:24.5  -24:21:51.0  +11: 4:36.75\n",
      "29/10/2015  14: 5:57.63    50    Hya       124206         5.08  14:12:46.0  -27:15:40.0  +13:56:34.78\n",
      "29/10/2015  16:54:24.2                     124281         6.24  14:13:13.2  -26:36:44.0  +13:15:18.56\n",
      "29/10/2015  14:54:15.84    98Kap Vir       124294         4.19  14:12:53.8  -10:16:25.0  - 3: 3:20.45\n",
      "29/10/2015  19:45:19.39                    124425         5.91  14:13:40.8    0:50:44.0  -13:23:47.53\n",
      "29/10/2015  23:56: 7.77                    124553         6.36  14:14:21.3  - 5:56:51.0  - 7:30:24.73\n",
      "\n",
      "30/10/2015   6:25: 2.05                    124683         5.43  14:15:24.1  -18:12: 3.0  + 4:39:25.22\n",
      "30/10/2015  10:12:55.64    99Iot Vir       124850         4.08  14:16: 0.9  - 6: 0: 2.0  - 7:35:44.07\n",
      "30/10/2015  12:20:25.72                    124915         6.44  14:16:21.5  - 6:37:19.0  - 7: 0:12.27\n",
      "30/10/2015  13:13:30.35                    124931         6.15  14:16:30.1  - 3:11:47.0  -10:26:28.03\n",
      "30/10/2015  16:41:29.7                     124990         6.22  14:17: 3.8  -18:35: 7.0  + 4:54: 0.65\n",
      "30/10/2015  22:32: 3.13                    125184         6.47  14:18: 0.6  - 7:32:33.0  - 6:13:21.49\n",
      "\n",
      "31/10/2015   2:24:43.7                     125248          5.9  14:18:38.3  -18:42:58.0  + 4:53:52.69\n",
      "31/10/2015   4:43:35.6                     125276         5.87  14:19: 0.8  -25:48:56.0  +11:57:56.97\n",
      "31/10/2015   5:19:23.38   100Lam Vir       125337         4.52  14:19: 6.6  -13:22:16.0  - 0:29:12.33\n",
      "31/10/2015   7:59:14.33   102Ups Vir       125454         5.14  14:19:32.5  - 2:15:56.0  -11:37:43.04\n",
      "31/10/2015   8:51: 4.91                    125489         6.19  14:19:40.9    0:23: 3.0  -13:54:21.4 \n",
      "\n"
     ]
    }
   ],
   "source": [
    "from suneph import alex_se\n",
    "from compute import *\n",
    "from utils import parse_date, parse_coord\n",
    "import time\n",
    "\n",
    "from vdb import process_vdb, handle_date\n",
    "\n",
    "#day = int(time.strftime(\"%d\"))\n",
    "month = int(time.strftime(\"%m\"))\n",
    "year = int('20' + time.strftime('%y'))\n",
    "\n",
    "records = alex_se(loadfile = 'sun_ephemeris.npz')\n",
    "\n",
    "catalogs = ['V/50', 'VII/239A/icpos']\n",
    "        \n",
    "handle_date([ month, year], records, catalogs[0])"
   ]
  },
  {
   "cell_type": "code",
   "execution_count": 1,
   "metadata": {
    "collapsed": false
   },
   "outputs": [
    {
     "name": "stdout",
     "output_type": "stream",
     "text": [
      "[30, 11, 2014]\n",
      "([ra:   16:26:30.69, deg:  -21:41:58.7 ], [ra:   16:30:49.42, deg:  -21:51:21.9 ])\n"
     ]
    }
   ],
   "source": [
    "import ephem\n",
    "import numpy as np\n",
    "from utils import parse_coord\n",
    "\n",
    "def dpm(year):\n",
    "    ds = np.array([30]*12)\n",
    "    ds[ :7:2] += 1\n",
    "    ds[7: :2] += 1\n",
    "    if year % 4 == 0:\n",
    "        ds[1] = 29\n",
    "    else:\n",
    "        ds[1] = 28 \n",
    "    return ds\n",
    "\n",
    "\n",
    "def prev_date(date):\n",
    "    ds = dpm(date[2])\n",
    "    \n",
    "    if date[0] == 1:\n",
    "        if date[1] == 1:\n",
    "            nd = [31, 12, date[2] - 1]\n",
    "        else:\n",
    "            nd = [ds[date[1]-2], date[1]-1, date[2]]\n",
    "    else:\n",
    "        nd = [date[0]-1, date[1], date[2]]\n",
    "    return nd\n",
    "\n",
    "def ephsun(date):\n",
    "    # Moscow coordinates\n",
    "    (lat, lon) = (55.7522200, 37.6155600) \n",
    "\n",
    "    date2 = prev_date(date)\n",
    "    \n",
    "    time = '21:00' #\n",
    "    sdate1 = str(date2[2]) + '/' + str(date2[1]) + '/' + str(date2[0]) + ' '\n",
    "    sdate2 = str(date[2]) + '/' + str(date[1]) + '/' + str(date[0]) + ' '\n",
    "    sun = ephem.Sun()\n",
    "    gatech = ephem.Observer()\n",
    "    gatech.lon, gatech.lat = str(lon), str(lat)\n",
    "    \n",
    "    gatech.date = sdate1 + time\n",
    "    sun.compute(gatech)\n",
    "    sun1 = [parse_coord(str(sun.a_ra), 'ra'), parse_coord(str(sun.a_dec), 'deg')]\n",
    "    \n",
    "    gatech.date = sdate2 + time\n",
    "    sun.compute(gatech)\n",
    "    sun2 = [parse_coord(str(sun.a_ra), 'ra'), parse_coord(str(sun.a_dec), 'deg')]\n",
    "    return sun1, sun2\n",
    "\n",
    "date = [1, 12, 2014]\n",
    "print prev_date(date)\n",
    "print ephsun(date)\n",
    "    "
   ]
  },
  {
   "cell_type": "code",
   "execution_count": 6,
   "metadata": {
    "collapsed": false,
    "scrolled": false
   },
   "outputs": [
    {
     "name": "stderr",
     "output_type": "stream",
     "text": [
      "/home/hariyuki/downloads/ap/lib/python2.7/site-packages/astroquery/simbad/core.py:853: UserWarning: Warning: The script line number 3 raised an error (recorded in the `errors` attribute of the result table): 'cat in ('ngc') & rah > 18.7726611111 & rah < 18.8462 & dec > -38.0095277778 & dec < -7.92425': No object found\n",
      "  (error.line, error.msg))\n",
      "/home/hariyuki/downloads/ap/lib/python2.7/site-packages/astroquery/simbad/core.py:853: UserWarning: Warning: The script line number 3 raised an error (recorded in the `errors` attribute of the result table): 'cat in ('ngc') & rah > 19.0662444444 & rah < 19.1393722222 & dec > -37.6228611111 & dec < -7.50741666667': No object found\n",
      "  (error.line, error.msg))\n",
      "/home/hariyuki/downloads/ap/lib/python2.7/site-packages/astroquery/simbad/core.py:853: UserWarning: Warning: The script line number 3 raised an error (recorded in the `errors` attribute of the result table): 'cat in ('ngc') & rah > 19.1393722222 & rah < 19.212375 & dec > -37.5074166667 & dec < -7.38455555556': No object found\n",
      "  (error.line, error.msg))\n",
      "/home/hariyuki/downloads/ap/lib/python2.7/site-packages/astroquery/simbad/core.py:853: UserWarning: Warning: The script line number 3 raised an error (recorded in the `errors` attribute of the result table): 'cat in ('ngc') & rah > 19.2852444444 & rah < 19.357975 & dec > -37.2543333333 & dec < -7.11683333333': No object found\n",
      "  (error.line, error.msg))\n",
      "/home/hariyuki/downloads/ap/lib/python2.7/site-packages/astroquery/simbad/core.py:853: UserWarning: Warning: The script line number 3 raised an error (recorded in the `errors` attribute of the result table): 'cat in ('ngc') & rah > 19.357975 & rah < 19.4305527778 & dec > -37.1168333333 & dec < -6.97211111111': No object found\n",
      "  (error.line, error.msg))\n",
      "/home/hariyuki/downloads/ap/lib/python2.7/site-packages/astroquery/simbad/core.py:853: UserWarning: Warning: The script line number 3 raised an error (recorded in the `errors` attribute of the result table): 'cat in ('ngc') & rah > 19.4305527778 & rah < 19.502975 & dec > -36.9721111111 & dec < -6.82025': No object found\n",
      "  (error.line, error.msg))\n",
      "/home/hariyuki/downloads/ap/lib/python2.7/site-packages/astroquery/simbad/core.py:853: UserWarning: Warning: The script line number 3 raised an error (recorded in the `errors` attribute of the result table): 'cat in ('ngc') & rah > 19.502975 & rah < 19.5752333333 & dec > -36.82025 & dec < -6.66133333333': No object found\n",
      "  (error.line, error.msg))\n",
      "/home/hariyuki/downloads/ap/lib/python2.7/site-packages/astroquery/simbad/core.py:853: UserWarning: Warning: The script line number 3 raised an error (recorded in the `errors` attribute of the result table): 'cat in ('ngc') & rah > 19.5752333333 & rah < 19.6473166667 & dec > -36.6613333333 & dec < -6.49541666667': No object found\n",
      "  (error.line, error.msg))\n",
      "/home/hariyuki/downloads/ap/lib/python2.7/site-packages/astroquery/simbad/core.py:853: UserWarning: Warning: The script line number 3 raised an error (recorded in the `errors` attribute of the result table): 'cat in ('ngc') & rah > 19.7909416667 & rah < 19.8624694444 & dec > -36.1429444444 & dec < -5.95655555556': No object found\n",
      "  (error.line, error.msg))\n",
      "/home/hariyuki/downloads/ap/lib/python2.7/site-packages/astroquery/simbad/core.py:853: UserWarning: Warning: The script line number 3 raised an error (recorded in the `errors` attribute of the result table): 'cat in ('ngc') & rah > 20.0049277778 & rah < 20.07585 & dec > -35.5638888889 & dec < -5.35777777778': No object found\n",
      "  (error.line, error.msg))\n",
      "/home/hariyuki/downloads/ap/lib/python2.7/site-packages/astroquery/simbad/core.py:853: UserWarning: Warning: The script line number 3 raised an error (recorded in the `errors` attribute of the result table): 'cat in ('ngc') & rah > 20.1465666667 & rah < 20.2170722222 & dec > -35.1453055556 & dec < -4.92655555556': No object found\n",
      "  (error.line, error.msg))\n",
      "/home/hariyuki/downloads/ap/lib/python2.7/site-packages/astroquery/simbad/core.py:853: UserWarning: Warning: The script line number 3 raised an error (recorded in the `errors` attribute of the result table): 'cat in ('ngc') & rah > 20.2170722222 & rah < 20.2873638889 & dec > -34.9265555556 & dec < -4.70158333333': No object found\n",
      "  (error.line, error.msg))\n",
      "/home/hariyuki/downloads/ap/lib/python2.7/site-packages/astroquery/simbad/core.py:853: UserWarning: Warning: The script line number 3 raised an error (recorded in the `errors` attribute of the result table): 'cat in ('ngc') & rah > 21.5811944444 & rah < 21.6470861111 & dec > -29.3882777778 & dec < 0.93825': No object found\n",
      "  (error.line, error.msg))\n",
      "/home/hariyuki/downloads/ap/lib/python2.7/site-packages/astroquery/simbad/core.py:853: UserWarning: Warning: The script line number 3 raised an error (recorded in the `errors` attribute of the result table): 'cat in ('ngc') & rah > 21.8434583333 & rah < 21.9084916667 & dec > -28.0594722222 & dec < 2.28180555556': No object found\n",
      "  (error.line, error.msg))\n"
     ]
    },
    {
     "name": "stdout",
     "output_type": "stream",
     "text": [
      "Month 1 is ready!\n",
      "Month 2 is ready!\n",
      "Month 3 is ready!\n",
      "Month"
     ]
    },
    {
     "name": "stderr",
     "output_type": "stream",
     "text": [
      "/home/hariyuki/downloads/ap/lib/python2.7/site-packages/astroquery/simbad/core.py:853: UserWarning: Warning: The script line number 3 raised an error (recorded in the `errors` attribute of the result table): 'cat in ('ngc') & rah > 23.9675444444 & rah < 0.0282916666667 & dec > -15.2114444444 & dec < 15.1836111111': No object found\n",
      "  (error.line, error.msg))\n",
      "/home/hariyuki/downloads/ap/lib/python2.7/site-packages/astroquery/simbad/core.py:853: UserWarning: Warning: The script line number 3 raised an error (recorded in the `errors` attribute of the result table): 'cat in ('ngc') & rah > 3.0669 & rah < 3.1319 & dec > 2.32019444444 & dec < 32.5850277778': No object found\n",
      "  (error.line, error.msg))\n",
      "/home/hariyuki/downloads/ap/lib/python2.7/site-packages/astroquery/simbad/core.py:853: UserWarning: Warning: The script line number 3 raised an error (recorded in the `errors` attribute of the result table): 'cat in ('ngc') & rah > 3.19705277778 & rah < 3.26236111111 & dec > 2.84491666667 & dec < 33.0998055556': No object found\n",
      "  (error.line, error.msg))\n",
      "/home/hariyuki/downloads/ap/lib/python2.7/site-packages/astroquery/simbad/core.py:853: UserWarning: Warning: The script line number 3 raised an error (recorded in the `errors` attribute of the result table): 'cat in ('ngc') & rah > 3.26236111111 & rah < 3.32782222222 & dec > 3.09980555556 & dec < 33.3496111111': No object found\n",
      "  (error.line, error.msg))\n",
      "/home/hariyuki/downloads/ap/lib/python2.7/site-packages/astroquery/simbad/core.py:853: UserWarning: Warning: The script line number 3 raised an error (recorded in the `errors` attribute of the result table): 'cat in ('ngc') & rah > 3.32782222222 & rah < 3.39343611111 & dec > 3.34961111111 & dec < 33.5942777778': No object found\n",
      "  (error.line, error.msg))\n",
      "/home/hariyuki/downloads/ap/lib/python2.7/site-packages/astroquery/simbad/core.py:853: UserWarning: Warning: The script line number 3 raised an error (recorded in the `errors` attribute of the result table): 'cat in ('ngc') & rah > 3.39343611111 & rah < 3.45920277778 & dec > 3.59427777778 & dec < 33.8336666667': No object found\n",
      "  (error.line, error.msg))\n",
      "/home/hariyuki/downloads/ap/lib/python2.7/site-packages/astroquery/simbad/core.py:853: UserWarning: Warning: The script line number 3 raised an error (recorded in the `errors` attribute of the result table): 'cat in ('ngc') & rah > 3.52512222222 & rah < 3.59119444444 & dec > 4.06775 & dec < 34.2964444444': No object found\n",
      "  (error.line, error.msg))\n",
      "/home/hariyuki/downloads/ap/lib/python2.7/site-packages/astroquery/simbad/core.py:853: UserWarning: Warning: The script line number 3 raised an error (recorded in the `errors` attribute of the result table): 'cat in ('ngc') & rah > 3.65741666667 & rah < 3.72378888889 & dec > 4.51966666667 & dec < 34.7373611111': No object found\n",
      "  (error.line, error.msg))\n",
      "/home/hariyuki/downloads/ap/lib/python2.7/site-packages/astroquery/simbad/core.py:853: UserWarning: Warning: The script line number 3 raised an error (recorded in the `errors` attribute of the result table): 'cat in ('ngc') & rah > 4.19251944444 & rah < 4.26005 & dec > 6.10027777778 & dec < 36.27125': No object found\n",
      "  (error.line, error.msg))\n",
      "/home/hariyuki/downloads/ap/lib/python2.7/site-packages/astroquery/simbad/core.py:853: UserWarning: Warning: The script line number 3 raised an error (recorded in the `errors` attribute of the result table): 'cat in ('ngc') & rah > 4.39551388889 & rah < 4.46344444444 & dec > 6.59472222222 & dec < 36.7471666667': No object found\n",
      "  (error.line, error.msg))\n"
     ]
    },
    {
     "name": "stdout",
     "output_type": "stream",
     "text": [
      " 4 is ready!\n",
      "Month"
     ]
    },
    {
     "name": "stderr",
     "output_type": "stream",
     "text": [
      "/home/hariyuki/downloads/ap/lib/python2.7/site-packages/astroquery/simbad/core.py:853: UserWarning: Warning: The script line number 3 raised an error (recorded in the `errors` attribute of the result table): 'cat in ('ngc') & rah > 4.5315 & rah < 4.599675 & dec > 6.89333333333 & dec < 37.0331388889': No object found\n",
      "  (error.line, error.msg))\n",
      "/home/hariyuki/downloads/ap/lib/python2.7/site-packages/astroquery/simbad/core.py:853: UserWarning: Warning: The script line number 3 raised an error (recorded in the `errors` attribute of the result table): 'cat in ('ngc') & rah > 4.87348611111 & rah < 4.94218333333 & dec > 7.52808333333 & dec < 37.6355': No object found\n",
      "  (error.line, error.msg))\n",
      "/home/hariyuki/downloads/ap/lib/python2.7/site-packages/astroquery/simbad/core.py:853: UserWarning: Warning: The script line number 3 raised an error (recorded in the `errors` attribute of the result table): 'cat in ('ngc') & rah > 4.94218333333 & rah < 5.01096666667 & dec > 7.6355 & dec < 37.7363055556': No object found\n",
      "  (error.line, error.msg))\n",
      "/home/hariyuki/downloads/ap/lib/python2.7/site-packages/astroquery/simbad/core.py:853: UserWarning: Warning: The script line number 3 raised an error (recorded in the `errors` attribute of the result table): 'cat in ('ngc') & rah > 5.21775833333 & rah < 5.28681388889 & dec > 7.99869444444 & dec < 38.0726944444': No object found\n",
      "  (error.line, error.msg))\n"
     ]
    },
    {
     "name": "stdout",
     "output_type": "stream",
     "text": [
      " 5 is ready!\n",
      "  5:25:30.27"
     ]
    },
    {
     "name": "stderr",
     "output_type": "stream",
     "text": [
      "/home/hariyuki/downloads/ap/lib/python2.7/site-packages/astroquery/simbad/core.py:853: UserWarning: Warning: The script line number 3 raised an error (recorded in the `errors` attribute of the result table): 'cat in ('ngc') & rah > 5.28681388889 & rah < 5.35592222222 & dec > 8.07269444444 & dec < 38.1399166667': No object found\n",
      "  (error.line, error.msg))\n",
      "/home/hariyuki/downloads/ap/lib/python2.7/site-packages/astroquery/simbad/core.py:853: UserWarning: Warning: The script line number 3 raised an error (recorded in the `errors` attribute of the result table): 'cat in ('ngc') & rah > 5.77131944444 & rah < 5.84062222222 & dec > 8.39983333333 & dec < 38.4191111111': No object found\n",
      "  (error.line, error.msg))\n"
     ]
    },
    {
     "name": "stdout",
     "output_type": "stream",
     "text": [
      "   5:29:39.36   5:25: 0.0  NGC  1896\n",
      "  6: 7: 4.18"
     ]
    },
    {
     "name": "stderr",
     "output_type": "stream",
     "text": [
      "/home/hariyuki/downloads/ap/lib/python2.7/site-packages/astroquery/simbad/core.py:853: UserWarning: Warning: The script line number 3 raised an error (recorded in the `errors` attribute of the result table): 'cat in ('ngc') & rah > 6.25634722222 & rah < 6.32556666667 & dec > 8.36125 & dec < 38.3901388889': No object found\n",
      "  (error.line, error.msg))\n",
      "/home/hariyuki/downloads/ap/lib/python2.7/site-packages/astroquery/simbad/core.py:853: UserWarning: Warning: The script line number 3 raised an error (recorded in the `errors` attribute of the result table): 'cat in ('ngc') & rah > 6.32556666667 & rah < 6.39475555556 & dec > 8.3255 & dec < 38.36125': No object found\n",
      "  (error.line, error.msg))\n"
     ]
    },
    {
     "name": "stdout",
     "output_type": "stream",
     "text": [
      "   6:11:13.55   6: 7: 0.0  NGC  2169    19\n",
      "Month"
     ]
    },
    {
     "name": "stderr",
     "output_type": "stream",
     "text": [
      "/home/hariyuki/downloads/ap/lib/python2.7/site-packages/astroquery/simbad/core.py:853: UserWarning: Warning: The script line number 3 raised an error (recorded in the `errors` attribute of the result table): 'cat in ('ngc') & rah > 6.946275 & rah < 7.01486388889 & dec > 7.69938888889 & dec < 37.7956944444': No object found\n",
      "  (error.line, error.msg))\n",
      "/home/hariyuki/downloads/ap/lib/python2.7/site-packages/astroquery/simbad/core.py:853: UserWarning: Warning: The script line number 3 raised an error (recorded in the `errors` attribute of the result table): 'cat in ('ngc') & rah > 7.01486388889 & rah < 7.08335555556 & dec > 7.59655555556 & dec < 37.6993888889': No object found\n",
      "  (error.line, error.msg))\n"
     ]
    },
    {
     "name": "stdout",
     "output_type": "stream",
     "text": [
      " 6 is ready!\n",
      "Month"
     ]
    },
    {
     "name": "stderr",
     "output_type": "stream",
     "text": [
      "/home/hariyuki/downloads/ap/lib/python2.7/site-packages/astroquery/simbad/core.py:853: UserWarning: Warning: The script line number 3 raised an error (recorded in the `errors` attribute of the result table): 'cat in ('ngc') & rah > 8.88001111111 & rah < 8.94434166667 & dec > 2.27430555556 & dec < 32.5373333333': No object found\n",
      "  (error.line, error.msg))\n",
      "/home/hariyuki/downloads/ap/lib/python2.7/site-packages/astroquery/simbad/core.py:853: UserWarning: Warning: The script line number 3 raised an error (recorded in the `errors` attribute of the result table): 'cat in ('ngc') & rah > 10.5022972222 & rah < 10.5629888889 & dec > -5.95036111111 & dec < 24.4060833333': No object found\n",
      "  (error.line, error.msg))\n"
     ]
    },
    {
     "name": "stdout",
     "output_type": "stream",
     "text": [
      " 7 is ready!\n",
      "Month 8 is ready!\n",
      "Month 9 is ready!\n",
      "Month"
     ]
    },
    {
     "name": "stderr",
     "output_type": "stream",
     "text": [
      "/home/hariyuki/downloads/ap/lib/python2.7/site-packages/astroquery/simbad/core.py:853: UserWarning: Warning: The script line number 3 raised an error (recorded in the `errors` attribute of the result table): 'cat in ('ngc') & rah > 15.4214722222 & rah < 15.4902583333 & dec > -33.9448333333 & dec < -3.69722222222': No object found\n",
      "  (error.line, error.msg))\n",
      "/home/hariyuki/downloads/ap/lib/python2.7/site-packages/astroquery/simbad/core.py:853: UserWarning: Warning: The script line number 3 raised an error (recorded in the `errors` attribute of the result table): 'cat in ('ngc') & rah > 15.4902583333 & rah < 15.5592805556 & dec > -34.1868055556 & dec < -3.94483333333': No object found\n",
      "  (error.line, error.msg))\n",
      "/home/hariyuki/downloads/ap/lib/python2.7/site-packages/astroquery/simbad/core.py:853: UserWarning: Warning: The script line number 3 raised an error (recorded in the `errors` attribute of the result table): 'cat in ('ngc') & rah > 15.8376972222 & rah < 15.907875 & dec > -35.309 & dec < -5.09658333333': No object found\n",
      "  (error.line, error.msg))\n",
      "/home/hariyuki/downloads/ap/lib/python2.7/site-packages/astroquery/simbad/core.py:853: UserWarning: Warning: The script line number 3 raised an error (recorded in the `errors` attribute of the result table): 'cat in ('ngc') & rah > 15.907875 & rah < 15.978275 & dec > -35.5151666667 & dec < -5.309': No object found\n",
      "  (error.line, error.msg))\n",
      "/home/hariyuki/downloads/ap/lib/python2.7/site-packages/astroquery/simbad/core.py:853: UserWarning: Warning: The script line number 3 raised an error (recorded in the `errors` attribute of the result table): 'cat in ('ngc') & rah > 16.0488944444 & rah < 16.119725 & dec > -35.9085 & dec < -5.71505555556': No object found\n",
      "  (error.line, error.msg))\n",
      "/home/hariyuki/downloads/ap/lib/python2.7/site-packages/astroquery/simbad/core.py:853: UserWarning: Warning: The script line number 3 raised an error (recorded in the `errors` attribute of the result table): 'cat in ('ngc') & rah > 16.119725 & rah < 16.1907666667 & dec > -36.0954444444 & dec < -5.9085': No object found\n",
      "  (error.line, error.msg))\n"
     ]
    },
    {
     "name": "stdout",
     "output_type": "stream",
     "text": [
      " 10 is ready!\n",
      "Month"
     ]
    },
    {
     "name": "stderr",
     "output_type": "stream",
     "text": [
      "/home/hariyuki/downloads/ap/lib/python2.7/site-packages/astroquery/simbad/core.py:853: UserWarning: Warning: The script line number 3 raised an error (recorded in the `errors` attribute of the result table): 'cat in ('ngc') & rah > 16.5489138889 & rah < 16.6210861111 & dec > -37.0756111111 & dec < -6.92952777778': No object found\n",
      "  (error.line, error.msg))\n",
      "/home/hariyuki/downloads/ap/lib/python2.7/site-packages/astroquery/simbad/core.py:853: UserWarning: Warning: The script line number 3 raised an error (recorded in the `errors` attribute of the result table): 'cat in ('ngc') & rah > 16.6210861111 & rah < 16.6934222222 & dec > -37.2145833333 & dec < -7.07561111111': No object found\n",
      "  (error.line, error.msg))\n",
      "/home/hariyuki/downloads/ap/lib/python2.7/site-packages/astroquery/simbad/core.py:853: UserWarning: Warning: The script line number 3 raised an error (recorded in the `errors` attribute of the result table): 'cat in ('ngc') & rah > 16.6934222222 & rah < 16.7659166667 & dec > -37.3463888889 & dec < -7.21458333333': No object found\n",
      "  (error.line, error.msg))\n",
      "/home/hariyuki/downloads/ap/lib/python2.7/site-packages/astroquery/simbad/core.py:853: UserWarning: Warning: The script line number 3 raised an error (recorded in the `errors` attribute of the result table): 'cat in ('ngc') & rah > 16.7659166667 & rah < 16.8385611111 & dec > -37.4709722222 & dec < -7.34638888889': No object found\n",
      "  (error.line, error.msg))\n"
     ]
    },
    {
     "name": "stdout",
     "output_type": "stream",
     "text": [
      " 11 is ready!\n",
      " 17:56:27.54  18: 0:53.92  17:56: 0.0  BD-18  4697\n",
      " 17:56:27.54  18: 0:53.92  17:56: 0.0  BD-18  4702\n",
      " 17:56:27.54  18: 0:53.92  17:56: 0.0  NGC  6494    77\n",
      " 17:56:27.54  18: 0:53.92  17:56: 0.0  NGC  6494    96\n",
      " 17:56:27.54  18: 0:53.92  17:56: 0.0  BD-18  4706\n",
      "Month 12 is ready!\n",
      "Check it!\n"
     ]
    },
    {
     "name": "stderr",
     "output_type": "stream",
     "text": [
      "/home/hariyuki/downloads/ap/lib/python2.7/site-packages/astroquery/simbad/core.py:853: UserWarning: Warning: The script line number 3 raised an error (recorded in the `errors` attribute of the result table): 'cat in ('ngc') & rah > 16.9113472222 & rah < 16.9842666667 & dec > -37.6981388889 & dec < -7.58822222222': No object found\n",
      "  (error.line, error.msg))\n"
     ]
    }
   ],
   "source": [
    "from astroquery.simbad import Simbad\n",
    "from compute import *\n",
    "from utils import parse_date, parse_coord\n",
    "import time\n",
    "\n",
    "#from vdb import process_vdb, handle_date\n",
    "\n",
    "#day = int(time.strftime(\"%d\"))\n",
    "month = 1#int(time.strftime(\"%m\"))\n",
    "year = int('20' + time.strftime('%y'))+1\n",
    "dm = dpm(year)\n",
    "\n",
    "cat = 'ngc' #aco, hip, pgc, qso \n",
    "vphi = 15\n",
    "phi= coord(vphi,0,0,1,'deg')\n",
    "\n",
    "for month in range(1,13):\n",
    "    days = range(1, dm[month-1]+1)\n",
    "    fnm = str(month)+str(year)+'.csv'\n",
    "    f = open(fnm, 'w+')\n",
    "    if cat == 'hip':\n",
    "        f.write('Date,Time,Code,Dist,Vmag,RA,DEC\\n')\n",
    "    else:\n",
    "        f.write('Date,Time,Code,Dist,RA,DEC\\n')\n",
    "\n",
    "\n",
    "    for i in xrange(len(days)):\n",
    "        curdate = [days[i], month, year]\n",
    "        [[ra1, dec1], [ra2, dec2]] = ephsun(curdate)\n",
    "\n",
    "        if dec1.f2s() < dec2.f2s():\n",
    "            c = dec1\n",
    "            d = dec2\n",
    "        else:\n",
    "            c = dec2\n",
    "            d = dec1\n",
    "\n",
    "        ra_interest = [ra1.f2hd(), ra2.f2hd()]\n",
    "        dec_interest = [(c - phi).f2hd(), (d + phi).f2hd()]\n",
    "\n",
    "        fields = ['RA', 'DEC', 'flux(V)']\n",
    "        customSimbad = Simbad()#columns = fields)\n",
    "\n",
    "        query = \"cat in ('\" + cat + \"')\" + ' & '\n",
    "        query += 'rah > '+ str(ra_interest[0])  + ' & ' + 'rah < ' + str(ra_interest[1])+ ' & '\n",
    "        query += 'dec > '+ str(dec_interest[0]) + ' & ' + 'dec < ' + str(dec_interest[1])\n",
    "\n",
    "        if cat == 'hip':\n",
    "            customSimbad.add_votable_fields('flux(V)')\n",
    "        customSimbad.ROW_LIMIT = -1\n",
    "\n",
    "\n",
    "        result = customSimbad.query_criteria(query)\n",
    "\n",
    "\n",
    "        if result is not None:\n",
    "            ll = len(result)\n",
    "            result.sort('RA')\n",
    "        else:\n",
    "            continue\n",
    "\n",
    "        for i in xrange(ll):\n",
    "            row = result[i]\n",
    "            [ra, dec] = [row['RA'], row['DEC']]\n",
    "            if cat == 'hip':\n",
    "                vmag = row['FLUX_V']\n",
    "            ra = parse_coord( ra, 'ra', ' ')\n",
    "            dec = parse_coord( dec, 'deg', ' ')\n",
    "            try:\n",
    "                t = comp_time(ra1, ra2, ra)\n",
    "            except:\n",
    "                print ra1, ra2, ra, row['MAIN_ID']\n",
    "                continue\n",
    "                \n",
    "            tmp = str(curdate[0])\n",
    "            if len(tmp) <  2:\n",
    "                tmp = ' ' + tmp\n",
    "            date = '' + tmp + '/'\n",
    "            tmp = str(curdate[1])\n",
    "            if len(tmp) < 2:\n",
    "                tmp = ' ' + tmp\n",
    "            date = date + tmp + '/' + str(curdate[2])\n",
    "            dist = comp_dist(curdate[0], curdate[1], t, dec)\n",
    "\n",
    "            hdist = abs(dist.f2s() / 3600.)\n",
    "            if (cat == 'hip'):\n",
    "                if (str(vmag)!='--'):\n",
    "                    if (vmag > 6.5):\n",
    "                        if (vmag <= 8):\n",
    "                            if hdist > 12:\n",
    "                                continue\n",
    "                        elif (vmag <= 10):\n",
    "                            if hdist > 10:\n",
    "                                continue\n",
    "                        elif (vmag <= 12):\n",
    "                            if hdist > 7:\n",
    "                                continue\n",
    "                        else:\n",
    "                            if hdist > 5:\n",
    "                                continue\n",
    "                            \n",
    "            printer = '' + date + ',' + str(t) \n",
    "\n",
    "            stri = [row['MAIN_ID'], str(dist)]\n",
    "            if cat == 'hip':\n",
    "                stri += [str(vmag)]\n",
    "            stri += [str(ra), str(dec)]\n",
    "\n",
    "            for x in stri:\n",
    "                printer = printer + ',' + x\n",
    "            f.writelines(printer+'\\n')\n",
    "            #print printer\n",
    "        f.write(',,,,,\\n')\n",
    "    f.close()\n",
    "    print \"Month\", month, \"is ready!\"\n",
    "print \"Check it!\"\n",
    "            "
   ]
  },
  {
   "cell_type": "code",
   "execution_count": 6,
   "metadata": {
    "collapsed": false
   },
   "outputs": [
    {
     "name": "stdout",
     "output_type": "stream",
     "text": [
      " 12:25: 0.0 \n"
     ]
    }
   ],
   "source": [
    "print coord(12, 25, 0.0, 1, 'ra')"
   ]
  },
  {
   "cell_type": "markdown",
   "metadata": {},
   "source": [
    "\n",
    "## Полезные сведения"
   ]
  },
  {
   "cell_type": "markdown",
   "metadata": {},
   "source": [
    "## 1. Немного о вычислениях\n",
    "\n",
    "В астрономии используется несколько видов координат. Один из них - геоцентрические; представьте поверхность Земли с нанесённой на неё разметкой в виде меридианов и параллелей, при этом последние удаляются в бесконечность, образуя т.н. небесную сферу. С точки зрения земного наблюдателя по небесной сфере движутся все астрономические объекты. Измеряя их положение в одно и то же фикисированное время суток на протяжении времени, примерно соответствующему одному земному году, можем заметить, что астрономические объекты \n",
    "\n",
    "Теперь вспомним, что Земля вращается вокруг Солнца под углом. \n",
    "\n",
    "### Вторая экваториальная система:\n",
    "\n",
    "Основная плоскость - плоскость небесного экватора, в случае геоцентрической координатной системы совпадает с плоскостью Земного экватора.\n",
    "\n",
    "Координаты второй экваториальной системы - (прямое восхождение, склонение) = (Ra, Dec).\n",
    "\n",
    "$\\textbf{Ra}$ (обозначается как $\\alpha$) - англ. $\\textbf{right ascension}$ - прямое восхождение, дуга небесного экватора от точки весеннего равноденствия до круга склонения светила, или угол между направлением на точку весеннего равноденствия и плоскостью круга склонения светила. Является эквивалентом долготы, отсчитывается от точки весеннего равноденствия (напомним, так называют точку, где Солнце пересекает небесный экватор в весеннее время года).\n",
    "\n",
    "$\\textbf{Dec}$ (обозначается как $\\delta$) - англ. $\\textbf{declination}$ - склонение, равняется угловому расстоянию на небесной сфере от плоскости небесного экватора до объекта; имеет знак ($+ \\delta$ для объектов выше небесного экватора (север), $- \\delta$ для объектов ниже (расположенных к югу). Является эквивалентом земной широты, отсчитывается от плоскости небесного экватора (в этой же плоскости лежит земной экватор).\n",
    "\n",
    "Обе величины могут быть записаны в одном из двух форматов: в часовом $\\textbf{h:m:s}$, где $h \\in [0,24)$, $m, s \\in [0, 60)$ (часы:минуты:секунды), либо угловом $\\bf{a^o \\, b' \\, c''}$ (или $\\textbf{a:b:c}$), $ a \\in [0, 360)$ для $\\alpha$ и $a \\in [-90, 90]$ для $\\delta$, $b,c \\in [0, 60)$ (градусы:минуты:секунды).\n",
    "\n",
    "### Приближение времени соединения Солнца и астрономического объекта\n",
    "\n",
    "Считаем, что объект априори образует соединение с Солнцем (т.е., окзывается в некоторой малой окрестности Солнца с точки зрения наблюдателя). Для определения времени нам потребуются Ra ($\\alpha$) координата Солнца и объекта. Обозначим их как $\\alpha_{Sun}$ и $\\alpha_{obj}$.\n",
    "\n",
    "Здесь важно сделать ремарку о том, в каком формате доступны координаты Солнца. Таблицы, содержащие эти координаты для заданного объекта (а также и ряд других параметров) называют $\\textbf{эфемеридами}$. Эфемериды вычисляются с учётом локального положения наблюдателя на поверхности Земли. Данный скрипт использует эфемериды Александровича, доступные по ссылке: http://hea.iki.rssi.ru/~nik/ak/sun.htm . Указанные эфемериды Солнца вычислены на каждый день для часового пояса UTC +03:00 (12:00 по Московскому зимнему времени). На момент написания данного текста эфемериды доступны с 1.12.2014 по 31.01.2016.\n",
    "\n",
    "Таким образом, в нашем распоряжении оказываются координаты Солнца, вычисленные с шагом в одни сутки. Для приближённого вычисления времени соединения можно вычислить среднюю скорость движения Солнца по Ra-координате за 24 часа:\n",
    "$$v_{\\text{ср}} = \\frac{\\alpha_{Sun}^{[1]} - \\alpha_{Sun}^{[0]}}{\\Delta t} = \\frac{\\Delta \\alpha_{Sun}}{\\Delta t},$$\n",
    "где $\\Delta t = 24$ часа, $\\alpha_{Sun}^{[0]}, \\, \\alpha_{Sun}^{[1]}$ - соседние измерения Ra-координаты Солнца.\n",
    "\n",
    "Далее, из предположения о том, что соединения в указанный 24-часовой промежуток (от полудня первого дня до полудня дня второго) всё-таки произойдёт, вытекает, что в некоторый момент времени Ra-координаты Солнца и объекта совпадут. Что же, тогда не составляет никакого труда вычислить длину пути по $\\alpha$-координате:\n",
    "$$s = \\alpha_{obj} - \\alpha_{Sun}^{[0]},$$\n",
    "и время соединения (в приближении равномерного движения по Ra-координате!) вычисляется по простой школьной формуле путём деления длины пути на скорость движения:\n",
    "$$t_{appr.} = t_0 + \\frac{s}{v_{\\text{ср}}},$$\n",
    "где индекс \"appr.\" является сокращением от \"approximate\" (приближённый), а $t_0$ - время измерения $\\alpha_{Sun}^{[0]}$.\n",
    "\n",
    "### Вычисление удалённости положения объекта от Солнечной эклиптики\n",
    "\n",
    "Здесь тоже всё относительно просто: необходимы $\\delta$-координаты Солнца в момент соединения и объекта, из координаты Солнца вычитаем координату объекта, получаем расстояние, на котором объект отстоит от Солнца по данной координате:\n",
    "$$\\rho(\\text{Sun}, \\text{obj}) = \\delta_{\\text{Sun}} - \\delta_{\\text{obj}},$$\n",
    "т.к. $\\alpha$-координаты в момент соединения совпадают. Координаты $\\delta_{\\text{obj}}$ для астрономических объектов доступны из астрономических каталогов. С Dec-координатой для Слнца приходится немного сложнее.\n",
    "\n",
    "\n",
    "Существуют формулы для приближённого вычисления склонения Солнца в зависимости от дня в году и времени суток. Здесь была использована следующая формула:\n",
    "$$\\delta \\approx \\frac{\\pi}{180} \\arcsin\\left[ \\sin\\left(-23.44^o \\frac{\\pi}{180}\\right) \\cos\\left(\\frac{2 \\pi}{365.24}(N+10) + 2 \\cdot 0.0167 \\cdot \\sin\\left(\\frac{2 \\pi}{365.24} (N-2)\\right)\\right) \\right]$$\n",
    "\n",
    "Параметр N изменяется от 0 до 365(366), при этом полагается изменяющимся непрерывно. Это даёт возможность учитывать суточное время. Так, для 12 часов 1.01 числа $N=0.5$.\n",
    "\n",
    "\n"
   ]
  },
  {
   "cell_type": "markdown",
   "metadata": {
    "collapsed": false,
    "scrolled": true
   },
   "source": [
    "## 2. Каталоги астрономических объектов\n",
    "\n",
    "### Сервисы\n",
    "\n",
    "Существует большое количество самых разных астрономических каталогов. Наиболее привычное для человека представление - табличное, однако часто это уже конечная форма представления данных. Для хранения чаще всего используют базы данных. Здесь приведём несколько популярных сервисов, где можно обращаться с запросами к самым разным каталогам (сохранённым в виде баз данных):\n",
    "\n",
    "1) Vizier\n",
    "http://vizier.u-strasbg.fr/viz-bin/VizieR\n",
    "\n",
    "Представлено более 14000 каталогов. Принцип работы прост: сначала необходимо выбрать (найти) интересующий каталог, далее вести работу внутри выбранного каталога.\n",
    "\n",
    "2) Simbad\n",
    "http://simbad.u-strasbg.fr/simbad/\n",
    "\n",
    "Данный сервис, наоборот, ориентирован на объекты. Использует информацию из многих источников; удобен для поиска информации по отдельно взятому объекту или объектам вне зависимости от баз данных. \n",
    "\n",
    "3) Minor Planets Center (MPC)\n",
    "http://www.minorplanetcenter.com/\n",
    "\n",
    "Здесь можно найти информацию о всех малых объектах вроде астероидов или комет.\n",
    "\n",
    "### Классификация\n",
    "\n",
    "\n",
    "1) Hipparcos Input Catalogue (HIC)\n",
    "\n",
    "https://en.wikipedia.org/wiki/Hipparcos\n",
    "Для звёзд принято использовать HIP-код.\n",
    "\n",
    "2) Обозначения Флемстида (F-код)\n",
    "\n",
    "https://ru.wikipedia.org/wiki/Обозначения_Флемстида\n",
    "\n",
    "3)  Обозначения Байера (B-код)\n",
    "\n",
    "https://ru.wikipedia.org/wiki/Обозначения_Байера\n",
    "\n",
    "4) Новый общий каталог туманностей и звёздных скоплений (NGC)\n",
    "\n",
    "https://en.wikipedia.org/wiki/New_General_Catalogue\n",
    "\n",
    "5) Abell catalogue\n",
    "\n",
    "https://en.wikipedia.org/wiki/Abell_catalogue\n",
    "\n",
    "6) Messier object\n",
    "\n",
    "https://en.wikipedia.org/wiki/Messier_object\n",
    "\n",
    "7) Henry Draper Catalogue\n",
    "\n",
    "https://en.wikipedia.org/wiki/Henry_Draper_Catalogue\n",
    "\n",
    "\n",
    "### Каталоги\n",
    "\n",
    "V50\n",
    "\n",
    "V239A"
   ]
  },
  {
   "cell_type": "markdown",
   "metadata": {},
   "source": [
    "## График функции приближённого склонения Солнца\n",
    "\n",
    "[Nmin, Nmax] - отрезок числа дней, для которых будет построен график.\n",
    "\n",
    "step - шаг по времени. По умолчанию выбрали в один час [step = 1 / 24]"
   ]
  },
  {
   "cell_type": "code",
   "execution_count": null,
   "metadata": {
    "collapsed": false
   },
   "outputs": [],
   "source": [
    "%matplotlib inline\n",
    "\n",
    "import matplotlib.pyplot as plt\n",
    "import numpy as np\n",
    "    sun = []\n",
    "    for i in xrange(len(records[0])):\n",
    "        sun.append([parse_date(records[0][i]), parse_coord(records[1][i], 'ra'), parse_coord(records[2][i], 'deg')])\n",
    "Nmin = 0\n",
    "Nmax = 365*2\n",
    "step = 1. / 24.\n",
    "\n",
    "def sundec(N):\n",
    "    tmp = np.sin(-23.44 * np.pi / 180)\n",
    "    tmp *= np.cos(2*np.pi / 365.24 * ( N + 10) + 2*0.0167*np.sin(2*np.pi / 365.24*(N-2)))\n",
    "    return np.arcsin(tmp)*180/np.pi\n",
    "\n",
    "N = np.arange(Nmin, Nmax, step)\n",
    "f = sundec(N)\n",
    "\n",
    "plt.plot(N, f)\n",
    "plt.xlabel('Day')\n",
    "plt.ylabel('Delta')"
   ]
  },
  {
   "cell_type": "code",
   "execution_count": null,
   "metadata": {
    "collapsed": true
   },
   "outputs": [],
   "source": []
  }
 ],
 "metadata": {
  "kernelspec": {
   "display_name": "Python 2",
   "language": "python",
   "name": "python2"
  },
  "language_info": {
   "codemirror_mode": {
    "name": "ipython",
    "version": 2
   },
   "file_extension": ".py",
   "mimetype": "text/x-python",
   "name": "python",
   "nbconvert_exporter": "python",
   "pygments_lexer": "ipython2",
   "version": "2.7.10"
  }
 },
 "nbformat": 4,
 "nbformat_minor": 0
}
