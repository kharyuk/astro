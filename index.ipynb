{
 "cells": [
  {
   "cell_type": "markdown",
   "metadata": {},
   "source": [
    "# Соединения Солнца и Астрономических Объектов"
   ]
  },
  {
   "cell_type": "markdown",
   "metadata": {},
   "source": [
    "## 1. Немного о вычислениях\n",
    "\n",
    "В астрономии используется несколько видов координат. Один из них - геоцентрические; представьте поверхность Земли с нанесённой на неё разметкой в виде меридианов и параллелей, при этом последние удаляются в бесконечность, образуя т.н. небесную сферу. С точки зрения земного наблюдателя по небесной сфере движутся все астрономические объекты. Измеряя их положение в одно и то же фикисированное время суток на протяжении времени, примерно соответствующему одному земному году, можем заметить, что астрономические объекты \n",
    "\n",
    "Теперь вспомним, что Земля вращается вокруг Солнца под углом. \n",
    "\n",
    "### Вторая экваториальная система:\n",
    "\n",
    "Основная плоскость - плоскость небесного экватора, в случае геоцентрической координатной системы совпадает с плоскостью Земного экватора.\n",
    "\n",
    "Координаты второй экваториальной системы - (прямое восхождение, склонение) = (Ra, Dec).\n",
    "\n",
    "$\\textbf{Ra}$ (обозначается как $\\alpha$) - англ. $\\textbf{right ascension}$ - прямое восхождение, дуга небесного экватора от точки весеннего равноденствия до круга склонения светила, или угол между направлением на точку весеннего равноденствия и плоскостью круга склонения светила. Является эквивалентом долготы, отсчитывается от точки весеннего равноденствия (напомним, так называют точку, где Солнце пересекает небесный экватор в весеннее время года).\n",
    "\n",
    "$\\textbf{Dec}$ (обозначается как $\\delta$) - англ. $\\textbf{declination}$ - склонение, равняется угловому расстоянию на небесной сфере от плоскости небесного экватора до объекта; имеет знак ($+ \\delta$ для объектов выше небесного экватора (север), $- \\delta$ для объектов ниже (расположенных к югу). Является эквивалентом земной широты, отсчитывается от плоскости небесного экватора (в этой же плоскости лежит земной экватор).\n",
    "\n",
    "Обе величины могут быть записаны в одном из двух форматов: в часовом $\\textbf{h:m:s}$, где $h \\in [0,24)$, $m, s \\in [0, 60)$ (часы:минуты:секунды), либо угловом $\\bf{a^o \\, b' \\, c''}$ (или $\\textbf{a:b:c}$), $ a \\in [0, 360)$ для $\\alpha$ и $a \\in [-90, 90]$ для $\\delta$, $b,c \\in [0, 60)$ (градусы:минуты:секунды).\n",
    "\n",
    "### Приближение времени соединения Солнца и астрономического объекта\n",
    "\n",
    "Считаем, что объект априори образует соединение с Солнцем (т.е., окзывается в некоторой малой окрестности Солнца с точки зрения наблюдателя). Для определения времени нам потребуются Ra ($\\alpha$) координата Солнца и объекта. Обозначим их как $\\alpha_{Sun}$ и $\\alpha_{obj}$.\n",
    "\n",
    "Здесь важно сделать ремарку о том, в каком формате доступны координаты Солнца. Таблицы, содержащие эти координаты для заданного объекта (а также и ряд других параметров) называют $\\textbf{эфемеридами}$. Эфемериды вычисляются с учётом локального положения наблюдателя на поверхности Земли. Данный скрипт использует эфемериды Александровича, доступные по ссылке: http://hea.iki.rssi.ru/~nik/ak/sun.htm . Указанные эфемериды Солнца вычислены на каждый день для часового пояса UTC +03:00 (12:00 по Московскому зимнему времени). На момент написания данного текста эфемериды доступны с 1.12.2014 по 31.01.2016.\n",
    "\n",
    "Таким образом, в нашем распоряжении оказываются координаты Солнца, вычисленные с шагом в одни сутки. Для приближённого вычисления времени соединения можно вычислить среднюю скорость движения Солнца по Ra-координате за 24 часа:\n",
    "$$v_{\\text{ср}} = \\frac{\\alpha_{Sun}^{[1]} - \\alpha_{Sun}^{[0]}}{\\Delta t} = \\frac{\\Delta \\alpha_{Sun}}{\\Delta t},$$\n",
    "где $\\Delta t = 24$ часа, $\\alpha_{Sun}^{[0]}, \\, \\alpha_{Sun}^{[1]}$ - соседние измерения Ra-координаты Солнца.\n",
    "\n",
    "Далее, из предположения о том, что соединения в указанный 24-часовой промежуток (от полудня первого дня до полудня дня второго) всё-таки произойдёт, вытекает, что в некоторый момент времени Ra-координаты Солнца и объекта совпадут. Что же, тогда не составляет никакого труда вычислить длину пути по $\\alpha$-координате:\n",
    "$$s = \\alpha_{obj} - \\alpha_{Sun}^{[0]},$$\n",
    "и время соединения (в приближении равномерного движения по Ra-координате!) вычисляется по простой школьной формуле путём деления длины пути на скорость движения:\n",
    "$$t_{appr.} = t_0 + \\frac{s}{v_{\\text{ср}}},$$\n",
    "где индекс \"appr.\" является сокращением от \"approximate\" (приближённый), а $t_0$ - время измерения $\\alpha_{Sun}^{[0]}$.\n",
    "\n",
    "### Вычисление удалённости положения объекта от Солнечной эклиптики\n",
    "\n",
    "Здесь тоже всё относительно просто: необходимы $\\delta$-координаты Солнца в момент соединения и объекта, из координаты Солнца вычитаем координату объекта, получаем расстояние, на котором объект отстоит от Солнца по данной координате:\n",
    "$$\\rho(\\text{Sun}, \\text{obj}) = \\delta_{\\text{Sun}} - \\delta_{\\text{obj}},$$\n",
    "т.к. $\\alpha$-координаты в момент соединения совпадают. Координаты $\\delta_{\\text{obj}}$ для астрономических объектов доступны из астрономических каталогов. С Dec-координатой для Слнца приходится немного сложнее.\n",
    "\n",
    "\n",
    "Существуют формулы для приближённого вычисления склонения Солнца в зависимости от дня в году и времени суток. Здесь была использована следующая формула:\n",
    "$$\\delta \\approx \\frac{\\pi}{180} \\arcsin\\left[ \\sin\\left(-23.44^o \\frac{\\pi}{180}\\right) \\cos\\left(\\frac{2 \\pi}{365.24}(N+10) + 2 \\cdot 0.0167 \\cdot \\sin\\left(\\frac{2 \\pi}{365.24} (N-2)\\right)\\right) \\right]$$\n",
    "\n",
    "Параметр N изменяется от 0 до 365(366), при этом полагается изменяющимся непрерывно. Это даёт возможность учитывать суточное время. Так, для 12 часов 1.01 числа $N=0.5$.\n",
    "\n",
    "\n"
   ]
  },
  {
   "cell_type": "code",
   "execution_count": 1,
   "metadata": {
    "collapsed": false
   },
   "outputs": [],
   "source": [
    "import numpy as np\n",
    "from coord import coord\n",
    "\n",
    "star_day = 60*60*24#86164.090530833 #seconds\n",
    "    \n",
    "def sundec(N):\n",
    "    tmp = np.sin(-23.44 * np.pi / 180)\n",
    "    tmp *= np.cos(2*np.pi / 365.24 * ( N + 10) + 2*0.0167*np.sin(2*np.pi / 365.24*(N-2)))\n",
    "    return np.arcsin(tmp)*180/np.pi\n",
    "\n",
    "def numdays(day, month, vis = False):\n",
    "    mns = [31, 28, 31, 30, 31, 30, 31, 31, 30, 31, 30, 31]\n",
    "    if vis:\n",
    "        mns[1] +=1\n",
    "    mns = np.array(mns)\n",
    "    month -= 1\n",
    "    tmp = mns[:month].sum()\n",
    "    tmp += day\n",
    "    return tmp - 1\n",
    "\n",
    "def comp_time(sun1, sun2, sun3, star):\n",
    "    st = star.f2s()\n",
    "    s1 = sun1.f2s()\n",
    "    s2 = sun2.f2s()\n",
    "    s3 = sun3.f2s()\n",
    "    assert (st > s1) and (s3 > st), 'Object is not in interval'\n",
    "    if st < s2:\n",
    "        sun = sun1\n",
    "        ds = sun2 - sun1\n",
    "        num = 0\n",
    "    else:\n",
    "        sun = sun2\n",
    "        ds = sun3 - sun2\n",
    "        num = 1\n",
    "    point = star - sun # intersection path\n",
    "    pra = point.f2s() # path in seconds\n",
    "    vra = ds / star_day # velocity\n",
    "    t = coord(0, 0, pra / vra)# time of intersection\n",
    "    return t, num\n",
    "\n",
    "def comp_dist(day, mon, time, obj_dec):\n",
    "    N = numdays(day, mon)\n",
    "    tm = time.f2s()\n",
    "    N += tm / star_day\n",
    "    sd = sundec(N)\n",
    "    sun_dec = coord(0,0,abs(sd)*3600,np.sign(sd),'deg')\n",
    "    return sun_dec - obj_dec\n"
   ]
  },
  {
   "cell_type": "code",
   "execution_count": 15,
   "metadata": {
    "collapsed": false,
    "scrolled": false
   },
   "outputs": [
    {
     "name": "stdout",
     "output_type": "stream",
     "text": [
      "6 10 2015\n",
      "Ra  of interest:  12:42:38.06.. 12:49:55.54\n",
      "Dec of interest: -20:21: 8.5 ..+10:24:57.3 \n",
      "\n",
      "==========================================================\n",
      "Date        Time        HD     Name      Vmag Dec         \n",
      "==========================================================\n",
      " 6/10/2015   7:39:43.64 110951 32    Vir 5.22 -12:31:23.01\n",
      " 6/10/2015  12:38:48.31 111028 33    Vir 5.67 -14:28:10.82\n",
      " 6/10/2015  17: 0:34.53 111133           6.34 -10:57: 1.59\n",
      " 6/10/2015  20:25: 7.48 111199           6.26 + 1:14:51.76\n",
      " 6/10/2015  22:23:30.8  111239 35    Vir 6.41 - 8:39:31.02\n"
     ]
    }
   ],
   "source": [
    "from suneph import alex_se\n",
    "from utils import parse_date, parse_coord\n",
    "import time\n",
    "from astroquery.vizier import Vizier\n",
    "\n",
    "day = int(time.strftime(\"%d\"))\n",
    "month = int(time.strftime(\"%m\"))\n",
    "year = int('20' + time.strftime('%y'))\n",
    "\n",
    "records = alex_se()\n",
    "sun = []\n",
    "for i in xrange(len(records[0])):\n",
    "    sun.append([parse_date(records[0][i]), parse_coord(records[1][i], 'ra'), parse_coord(records[2][i], 'deg')])\n",
    "\n",
    "for ind, row in enumerate(sun):\n",
    "    if [day, month, year] in row:\n",
    "        break\n",
    "\n",
    "        \n",
    "ra_interest = str(sun[ind-1][1]) + '..' + str(sun[ind+1][1])\n",
    "a = sun[ind-1][2]\n",
    "b = sun[ind+1][2]\n",
    "if a.f2s() < b.f2s():\n",
    "    c = a\n",
    "    d = b\n",
    "else:\n",
    "    c = b\n",
    "    d = a\n",
    "    \n",
    "phi = coord(15,0,0,1,'deg')\n",
    "\n",
    "dec_interest = str(c - phi) + '..' + str(d + phi)\n",
    "print day, month,year\n",
    "print \"Ra  of interest:\", ra_interest\n",
    "print \"Dec of interest:\", dec_interest\n",
    "print\n",
    "\n",
    "ra_interest = ra_interest.replace(' ', '')\n",
    "dec_interest = dec_interest.replace(' ', '')\n",
    "\n",
    "Vizier.ROW_LIMIT = -1\n",
    "#catalog_list = Vizier.find_catalogs('V/50')\n",
    "v = Vizier(columns=['Name', 'HD', 'RAJ2000', 'DEJ2000', 'Vmag'], catalog = 'V/50')\n",
    "result = v.query_constraints(catalog = 'V/50', RAJ2000 = ra_interest, DEJ2000 = dec_interest)\n",
    "#result[result.keys()[0]].pprint()\n",
    "\n",
    "numobjs = len(result[0])\n",
    "twelveoc = 12*60*60\n",
    "tms = twelveoc*np.array([1., 3., 4.])\n",
    "\n",
    "print '==========' + '=' + '============' + '=' + '======' + '=' + '=========' + '=' + '====' + '=' + '============'\n",
    "print 'Date      ' + ' ' + ' Time       ' + ' ' + 'HD    ' + ' ' + 'Name     ' + ' ' + 'Vmag' + ' ' + 'Dec         '\n",
    "print '==========' + '=' + '============' + '=' + '======' + '=' + '=========' + '=' + '====' + '=' + '============'\n",
    "for i in xrange(numobjs):\n",
    "    [name, hd, ra, dec, vmag, _, _] = result[0][i]\n",
    "    ra = parse_coord( ra, 'ra', ' ')\n",
    "    dec = parse_coord( dec, 'deg', ' ')\n",
    "    t, num = comp_time(sun[ind-1][1], sun[ind][1], sun[ind+1][1], ra)\n",
    "    t = t.f2s()\n",
    "    \n",
    "    if num > 0:\n",
    "        t += 2*twelveoc\n",
    "    tmp = tms - t\n",
    "    sz = tmp[tmp > 0].size\n",
    "    if sz == 1:\n",
    "        idx = ind+1\n",
    "    elif sz == 2:\n",
    "        idx = ind\n",
    "    elif sz == 3:\n",
    "        idx = ind-1\n",
    "    t = coord(0, 0, t + twelveoc, 1, 'ra')\n",
    "    if idx == ind:\n",
    "        curdate = sun[idx][0]\n",
    "        if name == '':\n",
    "            name = '         '\n",
    "        dist = comp_dist(curdate[0], curdate[1], t, dec)\n",
    "        tmp = str(curdate[0])\n",
    "        if len(tmp) <  2:\n",
    "            tmp = ' ' + tmp\n",
    "        date = '' + tmp + '/'\n",
    "        tmp = str(curdate[1])\n",
    "        if len(tmp) < 2:\n",
    "            tmp = ' ' + tmp\n",
    "        date = date + tmp + '/' + str(curdate[2])\n",
    "        print date, t, hd, name, vmag, dist"
   ]
  },
  {
   "cell_type": "markdown",
   "metadata": {},
   "source": [
    "## График функции приближённого вычисления склонения Солнца\n",
    "\n",
    "[Nmin, Nmax] - отрезок числа дней, для которых будет построен график.\n",
    "\n",
    "step - шаг по времени. По умолчанию выбрали в один час [step = 1 / 24]"
   ]
  },
  {
   "cell_type": "code",
   "execution_count": 1,
   "metadata": {
    "collapsed": false
   },
   "outputs": [
    {
     "data": {
      "text/plain": [
       "<matplotlib.text.Text at 0x7f323cf9ced0>"
      ]
     },
     "execution_count": 1,
     "metadata": {},
     "output_type": "execute_result"
    },
    {
     "data": {
      "image/png": "[encoded data removed]",
      "text/plain": [
       "<matplotlib.figure.Figure at 0x7f325954f710>"
      ]
     },
     "metadata": {},
     "output_type": "display_data"
    }
   ],
   "source": [
    "%matplotlib inline\n",
    "\n",
    "import matplotlib.pyplot as plt\n",
    "import numpy as np\n",
    "\n",
    "Nmin = 0\n",
    "Nmax = 365*2\n",
    "step = 1. / 24.\n",
    "\n",
    "def sundec(N):\n",
    "    tmp = np.sin(-23.44 * np.pi / 180)\n",
    "    tmp *= np.cos(2*np.pi / 365.24 * ( N + 10) + 2*0.0167*np.sin(2*np.pi / 365.24*(N-2)))\n",
    "    return np.arcsin(tmp)*180/np.pi\n",
    "\n",
    "N = np.arange(Nmin, Nmax, step)\n",
    "f = sundec(N)\n",
    "\n",
    "plt.plot(N, f)\n",
    "plt.xlabel('Day')\n",
    "plt.ylabel('Delta')"
   ]
  }
 ],
 "metadata": {
  "kernelspec": {
   "display_name": "Python 2",
   "language": "python",
   "name": "python2"
  },
  "language_info": {
   "codemirror_mode": {
    "name": "ipython",
    "version": 2
   },
   "file_extension": ".py",
   "mimetype": "text/x-python",
   "name": "python",
   "nbconvert_exporter": "python",
   "pygments_lexer": "ipython2",
   "version": "2.7.10"
  }
 },
 "nbformat": 4,
 "nbformat_minor": 0
}
