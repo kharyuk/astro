{
 "cells": [
  {
   "cell_type": "markdown",
   "metadata": {},
   "source": [
    "# Соединения Солнца и Астрономических Объектов"
   ]
  },
  {
   "cell_type": "markdown",
   "metadata": {},
   "source": [
    "## 1. Немного о вычислениях\n",
    "\n",
    "В астрономии используется несколько видов координат. Один из них - геоцентрические; представьте поверхность Земли с нанесённой на неё разметкой в виде меридианов и параллелей, при этом последние удаляются в бесконечность, образуя т.н. небесную сферу. С точки зрения земного наблюдателя по небесной сфере движутся все астрономические объекты. Измеряя их положение в одно и то же фикисированное время суток на протяжении времени, примерно соответствующему одному земному году, можем заметить, что астрономические объекты \n",
    "\n",
    "Теперь вспомним, что Земля вращается вокруг Солнца под углом. \n",
    "\n",
    "### Вторая экваториальная система:\n",
    "\n",
    "Основная плоскость - плоскость небесного экватора, в случае геоцентрической координатной системы совпадает с плоскостью Земного экватора.\n",
    "\n",
    "Координаты второй экваториальной системы - (прямое восхождение, склонение) = (Ra, Dec).\n",
    "\n",
    "$\\textbf{Ra}$ (обозначается как $\\alpha$) - англ. $\\textbf{right ascension}$ - прямое восхождение, дуга небесного экватора от точки весеннего равноденствия до круга склонения светила, или угол между направлением на точку весеннего равноденствия и плоскостью круга склонения светила. Является эквивалентом долготы, отсчитывается от точки весеннего равноденствия (напомним, так называют точку, где Солнце пересекает небесный экватор в весеннее время года).\n",
    "\n",
    "$\\textbf{Dec}$ (обозначается как $\\delta$) - англ. $\\textbf{declination}$ - склонение, равняется угловому расстоянию на небесной сфере от плоскости небесного экватора до объекта; имеет знак ($+ \\delta$ для объектов выше небесного экватора (север), $- \\delta$ для объектов ниже (расположенных к югу). Является эквивалентом земной широты, отсчитывается от плоскости небесного экватора (в этой же плоскости лежит земной экватор).\n",
    "\n",
    "Обе величины могут быть записаны в одном из двух форматов: в часовом $\\textbf{h:m:s}$, где $h \\in [0,24)$, $m, s \\in [0, 60)$ (часы:минуты:секунды), либо угловом $\\bf{a^o \\, b' \\, c''}$ (или $\\textbf{a:b:c}$), $ a \\in [0, 360)$ для $\\alpha$ и $a \\in [-90, 90]$ для $\\delta$, $b,c \\in [0, 60)$ (градусы:минуты:секунды).\n",
    "\n",
    "### Приближение времени соединения Солнца и астрономического объекта\n",
    "\n",
    "Считаем, что объект априори образует соединение с Солнцем (т.е., окзывается в некоторой малой окрестности Солнца с точки зрения наблюдателя). Для определения времени нам потребуются Ra ($\\alpha$) координата Солнца и объекта. Обозначим их как $\\alpha_{Sun}$ и $\\alpha_{obj}$.\n",
    "\n",
    "Здесь важно сделать ремарку о том, в каком формате доступны координаты Солнца. Таблицы, содержащие эти координаты для заданного объекта (а также и ряд других параметров) называют $\\textbf{эфемеридами}$. Эфемериды вычисляются с учётом локального положения наблюдателя на поверхности Земли. Данный скрипт использует эфемериды Александровича, доступные по ссылке: http://hea.iki.rssi.ru/~nik/ak/sun.htm . Указанные эфемериды Солнца вычислены на каждый день для часового пояса UTC +03:00 (12:00 по Московскому зимнему времени). На момент написания данного текста эфемериды доступны с 1.12.2014 по 31.01.2016.\n",
    "\n",
    "Таким образом, в нашем распоряжении оказываются координаты Солнца, вычисленные с шагом в одни сутки. Для приближённого вычисления времени соединения можно вычислить среднюю скорость движения Солнца по Ra-координате за 24 часа:\n",
    "$$v_{\\text{ср}} = \\frac{\\alpha_{Sun}^{[1]} - \\alpha_{Sun}^{[0]}}{\\Delta t} = \\frac{\\Delta \\alpha_{Sun}}{\\Delta t},$$\n",
    "где $\\Delta t = 24$ часа, $\\alpha_{Sun}^{[0]}, \\, \\alpha_{Sun}^{[1]}$ - соседние измерения Ra-координаты Солнца.\n",
    "\n",
    "Далее, из предположения о том, что соединения в указанный 24-часовой промежуток (от полудня первого дня до полудня дня второго) всё-таки произойдёт, вытекает, что в некоторый момент времени Ra-координаты Солнца и объекта совпадут. Что же, тогда не составляет никакого труда вычислить длину пути по $\\alpha$-координате:\n",
    "$$s = \\alpha_{obj} - \\alpha_{Sun}^{[0]},$$\n",
    "и время соединения (в приближении равномерного движения по Ra-координате!) вычисляется по простой школьной формуле путём деления длины пути на скорость движения:\n",
    "$$t_{appr.} = t_0 + \\frac{s}{v_{\\text{ср}}},$$\n",
    "где индекс \"appr.\" является сокращением от \"approximate\" (приближённый), а $t_0$ - время измерения $\\alpha_{Sun}^{[0]}$.\n",
    "\n",
    "### Вычисление удалённости положения объекта от Солнечной эклиптики\n",
    "\n",
    "Здесь тоже всё относительно просто: необходимы $\\delta$-координаты Солнца в момент соединения и объекта, из координаты Солнца вычитаем координату объекта, получаем расстояние, на котором объект отстоит от Солнца по данной координате:\n",
    "$$\\rho(\\text{Sun}, \\text{obj}) = \\delta_{\\text{Sun}} - \\delta_{\\text{obj}},$$\n",
    "т.к. $\\alpha$-координаты в момент соединения совпадают. Координаты $\\delta_{\\text{obj}}$ для астрономических объектов доступны из астрономических каталогов. С Dec-координатой для Слнца приходится немного сложнее.\n",
    "\n",
    "\n",
    "Существуют формулы для приближённого вычисления склонения Солнца в зависимости от дня в году и времени суток. Здесь была использована следующая формула:\n",
    "$$\\delta \\approx \\frac{\\pi}{180} \\arcsin\\left[ \\sin\\left(-23.44^o \\frac{\\pi}{180}\\right) \\cos\\left(\\frac{2 \\pi}{365.24}(N+10) + 2 \\cdot 0.0167 \\cdot \\sin\\left(\\frac{2 \\pi}{365.24} (N-2)\\right)\\right) \\right]$$\n",
    "\n",
    "Параметр N изменяется от 0 до 365(366), при этом полагается изменяющимся непрерывно. Это даёт возможность учитывать суточное время. Так, для 12 часов 1.01 числа $N=0.5$. Мы можем построить график данной функциии. В следующей ячейке опишем код с комментариями на русском. [К сожалению, пока не разобрался, как подружить русские символы и код, поэтому через одну ячейку дублирую код - дубликат уже можно запускать без опасений]\n",
    "\n",
    "\n"
   ]
  },
  {
   "cell_type": "code",
   "execution_count": null,
   "metadata": {
    "collapsed": false
   },
   "outputs": [],
   "source": [
    "#!/usr/bin/env python\n",
    "# -*- coding: utf-8 -*-\n",
    "\n",
    "#### НЕ ЗАПУСКАТЬ ДАННЫЙ БЛОК !!!! ОН ДЛЯ НАГЛЯДНОСТИ #####\n",
    "%matplotlib inline # u\"это нужно, чтобы мы увидели график здесь же\"\n",
    "\n",
    "import matplotlib.pyplot as plt # u\"загружаем библиотеку для построения графиков\"\n",
    "import numpy as np # u\"загружаем библиотеку для работы с числовыми массивами данных\"\n",
    "\n",
    "# u\"а теперь определим функцию, реализующую описанную формулу\"\n",
    "\n",
    "def sundec(N):\n",
    "    tmp = np.sin(-23.44 * np.pi / 180)\n",
    "    tmp *= np.cos(2*np.pi / 365.24 * ( N + 10) + 2*0.0167*np.sin(2*np.pi / 365.24*(N-2)))\n",
    "    return np.arcsin(tmp)*180/np.pi\n",
    "\n",
    "Nmin = 0 # левый предел парметра N\n",
    "Nmax = 365 # правый предел параметра N\n",
    "step = 1. / 24. # шаг, выбрали равный одному часу\n",
    "\n",
    "N = np.arange(Nmin, Nmax, step) # массив чисел от Nmin до Nmax с шагом step\n",
    "f = sundec(N)\n",
    "\n",
    "plt.plot(N, f) # строим график в плоскости (x, y), где x = N, y = f(N)\n",
    "plt.show() # выгружаем график из памяти на устройство вывода"
   ]
  },
  {
   "cell_type": "code",
   "execution_count": 1,
   "metadata": {
    "collapsed": false
   },
   "outputs": [
    {
     "data": {
      "text/plain": [
       "<matplotlib.text.Text at 0x7fdfb5b34ed0>"
      ]
     },
     "execution_count": 1,
     "metadata": {},
     "output_type": "execute_result"
    },
    {
     "data": {
      "image/png": "[encoded data removed]",
      "text/plain": [
       "<matplotlib.figure.Figure at 0x7fdfd09316d0>"
      ]
     },
     "metadata": {},
     "output_type": "display_data"
    }
   ],
   "source": [
    "%matplotlib inline\n",
    "\n",
    "import matplotlib.pyplot as plt\n",
    "import numpy as np\n",
    "\n",
    "def sundec(N):\n",
    "    tmp = np.sin(-23.44 * np.pi / 180)\n",
    "    tmp *= np.cos(2*np.pi / 365.24 * ( N + 10) + 2*0.0167*np.sin(2*np.pi / 365.24*(N-2)))\n",
    "    return np.arcsin(tmp)*180/np.pi\n",
    "\n",
    "Nmin = 0\n",
    "Nmax = 365*2\n",
    "step = 1. / 24.\n",
    "\n",
    "N = np.arange(Nmin, Nmax, step)\n",
    "f = sundec(N)\n",
    "\n",
    "plt.plot(N, f)\n",
    "plt.xlabel('Day')\n",
    "plt.ylabel('Delta')"
   ]
  },
  {
   "cell_type": "code",
   "execution_count": 5,
   "metadata": {
    "collapsed": false
   },
   "outputs": [],
   "source": [
    "import numpy as np\n",
    "import time\n",
    "from coord import coord\n",
    "\n",
    "star_day = 60*60*24#86164.090530833 #seconds\n",
    "    \n",
    "def sundec(N):\n",
    "    tmp = np.sin(-23.44 * np.pi / 180)\n",
    "    tmp *= np.cos(2*np.pi / 365.24 * ( N + 10) + 2*0.0167*np.sin(2*np.pi / 365.24*(N-2)))\n",
    "    return np.arcsin(tmp)*180/np.pi\n",
    "\n",
    "def numdays(day, month, vis = False):\n",
    "    mns = [31, 28, 31, 30, 31, 30, 31, 31, 30, 31, 30, 31]\n",
    "    if vis:\n",
    "        mns[1] +=1\n",
    "    mns = np.array(mns)\n",
    "    month -= 1\n",
    "    tmp = mns[:month].sum()\n",
    "    tmp += day\n",
    "    return tmp - 1\n",
    "\n",
    "def comp_time(sun1, sun2, sun3, star):\n",
    "    st = star.f2s()\n",
    "    s1 = sun1.f2s()\n",
    "    s2 = sun2.f2s()\n",
    "    s3 = sun3.f2s()\n",
    "    assert (st > s1) and (s3 > st), 'Object is not in interval'\n",
    "    if st < s2:\n",
    "        sun = sun1\n",
    "        ds = sun2 - sun1\n",
    "        num = 0\n",
    "    else:\n",
    "        sun = sun2\n",
    "        ds = sun3 - sun1\n",
    "        num = 1\n",
    "    point = star - sun # intersection path\n",
    "    pra = point.f2s() # path in seconds\n",
    "    vra = ds / star_day # velocity\n",
    "    t = coord(0, 0, pra / vra)# time of intersection\n",
    "    return t, num\n",
    "\n",
    "def comp_dist(day, mon, time, obj_dec):\n",
    "    N = numdays(day, mon)\n",
    "    tm = star_day/2 + time.f2s()\n",
    "    N += tm / star_day\n",
    "    sd = sundec(N)\n",
    "    sun_dec = coord(0,0,abs(sd)*3600,np.sign(sd),'deg')\n",
    "    return sun_dec- m49_dec\n",
    "\n",
    "\n",
    "# 1 Oct 2015\n",
    "sun_ra = coord(12,28,07.49)\n",
    "sun_dec = coord(3,2,14.8,-1)\n",
    "sun_ra_1 = coord(12,31,44.63)\n",
    "sun_dec_1 = coord(3,25,30.4, -1)\n",
    "\n",
    "#hd108471_ra = coord(12,27,42.07)\n",
    "#hd108471_dec = coord(8,36,37.3)\n",
    "\n",
    "m49_ra = coord(12, 29, 46.7)\n",
    "m49_dec = coord(8,0,2,1,'deg')\n",
    "\n",
    "#t = comp_time(sun_ra, sun_ra_1, m49_ra)\n",
    "#print t\n",
    "\n",
    "day = 1#int(time.strftime(\"%d\"))\n",
    "mon = 10#int(time.strftime(\"%m\"))\n",
    "\n",
    "#dec = comp_dist(day, mon, t, m49_ra)\n",
    "#print dec\n"
   ]
  },
  {
   "cell_type": "code",
   "execution_count": 1,
   "metadata": {
    "collapsed": false,
    "scrolled": false
   },
   "outputs": [],
   "source": [
    "import urllib2\n",
    "from bs4 import BeautifulSoup\n",
    "\n",
    "url = 'http://hea.iki.rssi.ru/~nik/ak/sun.htm'\n",
    "\n",
    "soup = BeautifulSoup(urllib2.urlopen(url).read())\n",
    "\n",
    "txt = soup.pre.renderContents()\n",
    "lines = txt.splitlines()\n",
    "\n",
    "\n",
    "fields = []\n",
    "ln = lines[0].split() + lines[1].split()\n",
    "lenln = len(ln)\n",
    "for i in xrange(lenln/2):\n",
    "    fields.append(ln[i])\n",
    "    fields.append(ln[i + lenln/2])\n",
    "fields = filter(lambda x: (x!='*') and (x!='Sun'), fields)\n",
    "\n",
    "lenline = len(fields)\n",
    "sun_ephemeris = {}\n",
    "records = [[]]*lenline\n",
    "\n",
    "for line in lines[3:]:\n",
    "    s = line.split()\n",
    "    if len(s) != lenline:\n",
    "        continue\n",
    "    for i in xrange(lenline):\n",
    "        records[i] = records[i] + [s[i]]\n",
    "        \n",
    "#np.savez(\"sun_ephemeris\", fields = fields, records = records)"
   ]
  },
  {
   "cell_type": "code",
   "execution_count": 24,
   "metadata": {
    "collapsed": false,
    "scrolled": true
   },
   "outputs": [
    {
     "name": "stdout",
     "output_type": "stream",
     "text": [
      "[[2, 10, 2015], ra:  12:31:44.63, deg:  -3:25:30.4]\n",
      "[[3, 10, 2015], ra:  12:35:22.1, deg:  -3:48:43.9]\n",
      "[[4, 10, 2015], ra:  12:38:59.9, deg:  -4:11:54.7]\n"
     ]
    }
   ],
   "source": [
    "def parse_date(date):\n",
    "    tmp = date.split('/')\n",
    "    return [int(tmp[0]), int(tmp[1]), int(tmp[2])]\n",
    "\n",
    "def parse_coord(coo, type):\n",
    "    tmp = coo.split(':')\n",
    "    tmp = [float(t) for t in tmp]\n",
    "    return coord(abs(tmp[0]), tmp[1], tmp[2], np.sign(tmp[0]), type)\n",
    "\n",
    "sun = []\n",
    "for i in xrange(len(records[0])):\n",
    "    sun.append([parse_date(records[0][i]), parse_coord(records[1][i], 'ra'), parse_coord(records[2][i], 'deg')])\n",
    "\n",
    "    \n",
    "day = 3\n",
    "month = 10\n",
    "year = 2015\n",
    "\n",
    "for ind, row in enumerate(sun):\n",
    "    if [day, month, year] in row:\n",
    "        break\n",
    "\n",
    "print sun[ind-1]\n",
    "print sun[ind]\n",
    "print sun[ind+1]\n",
    "\n"
   ]
  },
  {
   "cell_type": "code",
   "execution_count": 47,
   "metadata": {
    "collapsed": false,
    "scrolled": true
   },
   "outputs": [
    {
     "name": "stdout",
     "output_type": "stream",
     "text": [
      "12:31:44.63..12:38:59.9\n",
      " HR     Name     HD   ADS   RAJ2000    DEJ2000   Vmag _RAJ2000 _DEJ2000\n",
      "                            \"h:m:s\"    \"d:m:s\"   mag    deg      deg   \n",
      "---- --------- ------ ---- ---------- --------- ----- -------- --------\n",
      "4769           108970      12 32 10.0 -73 00 06  5.88 188.0417 -73.0017\n",
      "4771           109000      12 31 55.8 -63 30 22  5.95 187.9825 -63.5061\n",
      "4773   Gam Mus 109026      12 32 28.0 -72 07 59  3.87 188.1167 -72.1331\n",
      "4774           109074      12 32 04.5 -32 32 01  6.46 188.0187 -32.5336\n",
      "4775  8Eta Crv 109085      12 32 04.2 -16 11 46  4.31 188.0175 -16.1961\n",
      "4776           109141      12 32 36.0 -13 51 33  5.74 188.1500 -13.8592\n",
      "4777 20    Vir 109217      12 33 02.9 +10 17 44  6.26 188.2621  10.2956\n",
      "4778           109238      12 33 22.4 -19 47 31  6.26 188.3433 -19.7919\n",
      "4779           109272      12 33 34.3 -12 49 49  5.58 188.3929 -12.8303\n",
      "4780 22    Com 109307      12 33 34.2 +24 16 59  6.29 188.3925  24.2831\n",
      " ...       ...    ...  ...        ...       ...   ...      ...      ...\n",
      "4800           109729      12 36 23.3 +59 29 13  5.50 189.0971  59.4869\n",
      "4801 25    Com 109742      12 36 58.3 +17 05 22  5.68 189.2429  17.0894\n",
      "4802   Tau Cen 109787      12 37 42.2 -48 32 28  3.86 189.4258 -48.5411\n",
      "4803           109799 8612 12 37 42.2 -27 08 20  5.45 189.4258 -27.1389\n",
      "4805           109860      12 38 04.4 +03 16 57  6.33 189.5183   3.2825\n",
      "4806           109867      12 38 52.5 -67 11 35  6.25 189.7187 -67.1931\n",
      "4807           109896      12 38 22.4 +01 51 17  5.71 189.5933   1.8547\n",
      "4808           109914      12 38 30.0 +06 59 18  7.08 189.6250   6.9883\n",
      "4809           109931      12 38 44.6 -18 15 01  6.00 189.6858 -18.2503\n",
      "4811  9    CVn 109980      12 38 46.3 +40 52 28  6.37 189.6929  40.8744\n",
      "Length = 39 rows\n"
     ]
    }
   ],
   "source": [
    "from astroquery.vizier import Vizier\n",
    "\n",
    "ra_interest = str(sun[ind-1][1]) + '..' + str(sun[ind+1][1])\n",
    "print ra_interest\n",
    "\n",
    "prev_day = sun[ind-1][0]\n",
    "N = numdays(*(prev_day[:2]))\n",
    "sundec\n",
    "\n",
    "#dst1 = comp_dist(day, mon, time, obj_dec)\n",
    "\n",
    "#result = Vizier.query_constraints(catalog='J/ApJ/723/492/table1',GLON='>49.0 & < 51.0', GLAT='<0.0')\n",
    "#result[result.keys()[0]].pprint()\n",
    "\n",
    "Vizier.ROW_LIMIT = -1\n",
    "catalog_list = Vizier.find_catalogs('V/50')\n",
    "v = Vizier(columns=['HR', 'Name', 'HD', 'ADS', 'RAJ2000', 'DEJ2000', 'Vmag'], catalog = 'V/50')\n",
    "result = v.query_constraints(catalog = 'V/50', RAJ2000 = ra_interest)\n",
    "result[result.keys()[0]].pprint()\n"
   ]
  },
  {
   "cell_type": "code",
   "execution_count": 45,
   "metadata": {
    "collapsed": false
   },
   "outputs": [
    {
     "name": "stdout",
     "output_type": "stream",
     "text": [
      "4769 108970 5.88 [2, 10, 2015] 14:47:59.4040557328\n",
      "4771 109000 5.95 [2, 10, 2015] 13:13:57.7983170114\n",
      "4773 109026 3.87 [2, 10, 2015] 16:47:10.7352738318\n",
      "4774 109074 6.46 [2, 10, 2015] 14:11:34.2750724248\n",
      "4775 109085 4.31 [2, 10, 2015] 14:9:35.0862187886\n",
      "4776 109141 5.74 [2, 10, 2015] 17:40:9.10470409805\n",
      "4777 109217 6.26 [2, 10, 2015] 20:38:16.3719133688\n",
      "4778 109238 6.26 [2, 10, 2015] 22:47:23.6473996427\n",
      "4779 109272 5.58 [3, 10, 2015] 0:6:11.4719271643\n",
      "4780 109307 6.29 [3, 10, 2015] 0:5:31.7423092837\n",
      "4781 109309 5.48 [3, 10, 2015] 1:28:57.6741619553\n",
      "4782 109312 6.38 [3, 10, 2015] 2:51:4.14677886564\n",
      "4783 109317 5.42 [3, 10, 2015] 0:36:39.0343495668\n",
      "4784 109345 6.24 [3, 10, 2015] 1:32:56.0518692247\n",
      "4785 109358 4.26 [3, 10, 2015] 1:13:43.8929507526\n",
      "4786 109379 2.65 [3, 10, 2015] 5:29:59.2550696643\n",
      "4787 109387 3.87 [2, 10, 2015] 23:31:5.8021796118\n",
      "4788 109409 5.77 [3, 10, 2015] 7:36:27.6120844273\n",
      "4789 109485 4.81 [3, 10, 2015] 8:34:43.8184577184\n",
      "4790 109492 6.22 [3, 10, 2015] 12:22:49.6326418088\n",
      "4791 109510 6.56 [3, 10, 2015] 10:15:22.7203752259\n",
      "4792 109511 5.02 [3, 10, 2015] 10:25:18.6646434009\n",
      "4793 109519 5.85 [3, 10, 2015] 10:27:17.8534970341\n",
      "4794 109536 5.13 [3, 10, 2015] 13:17:24.8411330901\n",
      "4795 109551 4.94 [3, 10, 2015] 7:47:43.0155883577\n",
      "4796 109573 5.8 [3, 10, 2015] 14:9:21.2516369147\n",
      "4797 109585 6.2 [3, 10, 2015] 14:0:45.1581776828\n",
      "4798 109668 2.69 [3, 10, 2015] 18:0:16.3760424565\n",
      "4799 109704 5.87 [3, 10, 2015] 16:42:11.835412503\n",
      "4800 109729 5.5 [3, 10, 2015] 15:22:28.0460403895\n",
      "4801 109742 5.68 [3, 10, 2015] 17:18:15.4579915921\n",
      "4802 109787 3.86 [3, 10, 2015] 19:43:29.4975532423\n",
      "4803 109799 5.45 [3, 10, 2015] 19:43:29.4975532423\n",
      "4805 109860 6.33 [3, 10, 2015] 20:56:56.1417051488\n",
      "4806 109867 6.25 [3, 10, 2015] 23:36:3.87070094416\n",
      "4807 109896 5.71 [3, 10, 2015] 21:56:29.0964229102\n",
      "4808 109914 7.08 [3, 10, 2015] 22:21:37.6773037424\n",
      "4809 109931 6.0 [3, 10, 2015] 23:9:55.7405748153\n",
      "4811 109980 6.37 [3, 10, 2015] 23:15:33.1862981603\n"
     ]
    }
   ],
   "source": [
    "numobjs = len(result[0])\n",
    "twelveoc = 12*60*60\n",
    "\n",
    "tms = twelveoc*np.array([1., 3., 4.])\n",
    "\n",
    "for i in xrange(numobjs):\n",
    "    [hr, name, hd, ads, ra, dec, vmag, _, _] = result[0][i]\n",
    "    ra = parse_coord( ra.replace(' ', ':'), 'ra')\n",
    "    dec = parse_coord( dec.replace(' ', ':'), 'deg')\n",
    "    t, num = comp_time(sun[ind-1][1], sun[ind][1], sun[ind+1][1], ra)\n",
    "    t = t.f2s()\n",
    "    if num > 0:\n",
    "        t += 2*twelveoc\n",
    "    tmp = tms - t\n",
    "    sz = tmp[tmp > 0].size\n",
    "    if sz == 1:\n",
    "        idx = ind+1\n",
    "    elif sz == 2:\n",
    "        idx = ind\n",
    "    elif sz == 3:\n",
    "        idx = ind-1\n",
    "    t = coord(0, 0, t + twelveoc, 1, 'ra')\n",
    "    \n",
    "    print hr, hd, vmag, sun[idx][0], t\n",
    "    "
   ]
  },
  {
   "cell_type": "code",
   "execution_count": null,
   "metadata": {
    "collapsed": true
   },
   "outputs": [],
   "source": []
  }
 ],
 "metadata": {
  "kernelspec": {
   "display_name": "Python 2",
   "language": "python",
   "name": "python2"
  },
  "language_info": {
   "codemirror_mode": {
    "name": "ipython",
    "version": 2
   },
   "file_extension": ".py",
   "mimetype": "text/x-python",
   "name": "python",
   "nbconvert_exporter": "python",
   "pygments_lexer": "ipython2",
   "version": "2.7.10"
  }
 },
 "nbformat": 4,
 "nbformat_minor": 0
}
