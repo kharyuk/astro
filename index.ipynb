{
 "cells": [
  {
   "cell_type": "markdown",
   "metadata": {},
   "source": [
    "# Соединения Солнца и Астрономических Объектов"
   ]
  },
  {
   "cell_type": "markdown",
   "metadata": {},
   "source": [
    "## 1. Немного о вычислениях\n",
    "\n",
    "В астрономии используется несколько видов координат. Один из них - геоцентрические; представьте поверхность Земли с нанесённой на неё разметкой в виде меридианов и параллелей, при этом последние удаляются в бесконечность, образуя т.н. небесную сферу. С точки зрения земного наблюдателя по небесной сфере движутся все астрономические объекты. Измеряя их положение в одно и то же фикисированное время суток на протяжении времени, примерно соответствующему одному земному году, можем заметить, что астрономические объекты \n",
    "\n",
    "Теперь вспомним, что Земля вращается вокруг Солнца под углом. \n",
    "\n",
    "### Вторая экваториальная система:\n",
    "\n",
    "Основная плоскость - плоскость небесного экватора, в случае геоцентрической координатной системы совпадает с плоскостью Земного экватора.\n",
    "\n",
    "Координаты второй экваториальной системы - (прямое восхождение, склонение) = (Ra, Dec).\n",
    "\n",
    "$\\textbf{Ra}$ (обозначается как $\\alpha$) - англ. $\\textbf{right ascension}$ - прямое восхождение, дуга небесного экватора от точки весеннего равноденствия до круга склонения светила, или угол между направлением на точку весеннего равноденствия и плоскостью круга склонения светила. Является эквивалентом долготы, отсчитывается от точки весеннего равноденствия (напомним, так называют точку, где Солнце пересекает небесный экватор в весеннее время года).\n",
    "\n",
    "$\\textbf{Dec}$ (обозначается как $\\delta$) - англ. $\\textbf{declination}$ - склонение, равняется угловому расстоянию на небесной сфере от плоскости небесного экватора до объекта; имеет знак ($+ \\delta$ для объектов выше небесного экватора (север), $- \\delta$ для объектов ниже (расположенных к югу). Является эквивалентом земной широты, отсчитывается от плоскости небесного экватора (в этой же плоскости лежит земной экватор).\n",
    "\n",
    "Обе величины могут быть записаны в одном из двух форматов: в часовом $\\textbf{h:m:s}$, где $h \\in [0,24)$, $m, s \\in [0, 60)$ (часы:минуты:секунды), либо угловом $\\bf{a^o \\, b' \\, c''}$ (или $\\textbf{a:b:c}$), $ a \\in [0, 360)$ для $\\alpha$ и $a \\in [-90, 90]$ для $\\delta$, $b,c \\in [0, 60)$ (градусы:минуты:секунды).\n",
    "\n",
    "### Приближение времени соединения Солнца и астрономического объекта\n",
    "\n",
    "Считаем, что объект априори образует соединение с Солнцем (т.е., окзывается в некоторой малой окрестности Солнца с точки зрения наблюдателя). Для определения времени нам потребуются Ra ($\\alpha$) координата Солнца и объекта. Обозначим их как $\\alpha_{Sun}$ и $\\alpha_{obj}$.\n",
    "\n",
    "Здесь важно сделать ремарку о том, в каком формате доступны координаты Солнца. Таблицы, содержащие эти координаты для заданного объекта (а также и ряд других параметров) называют $\\textbf{эфемеридами}$. Эфемериды вычисляются с учётом локального положения наблюдателя на поверхности Земли. Данный скрипт использует эфемериды Александровича, доступные по ссылке: http://hea.iki.rssi.ru/~nik/ak/sun.htm . Указанные эфемериды Солнца вычислены на каждый день для часового пояса UTC +03:00 (12:00 по Московскому зимнему времени). На момент написания данного текста эфемериды доступны с 1.12.2014 по 31.01.2016.\n",
    "\n",
    "Таким образом, в нашем распоряжении оказываются координаты Солнца, вычисленные с шагом в одни сутки. Для приближённого вычисления времени соединения можно вычислить среднюю скорость движения Солнца по Ra-координате за 24 часа:\n",
    "$$v_{\\text{ср}} = \\frac{\\alpha_{Sun}^{[1]} - \\alpha_{Sun}^{[0]}}{\\Delta t} = \\frac{\\Delta \\alpha_{Sun}}{\\Delta t},$$\n",
    "где $\\Delta t = 24$ часа, $\\alpha_{Sun}^{[0]}, \\, \\alpha_{Sun}^{[1]}$ - соседние измерения Ra-координаты Солнца.\n",
    "\n",
    "Далее, из предположения о том, что соединения в указанный 24-часовой промежуток (от полудня первого дня до полудня дня второго) всё-таки произойдёт, вытекает, что в некоторый момент времени Ra-координаты Солнца и объекта совпадут. Что же, тогда не составляет никакого труда вычислить длину пути по $\\alpha$-координате:\n",
    "$$s = \\alpha_{obj} - \\alpha_{Sun}^{[0]},$$\n",
    "и время соединения (в приближении равномерного движения по Ra-координате!) вычисляется по простой школьной формуле путём деления длины пути на скорость движения:\n",
    "$$t_{appr.} = t_0 + \\frac{s}{v_{\\text{ср}}},$$\n",
    "где индекс \"appr.\" является сокращением от \"approximate\" (приближённый), а $t_0$ - время измерения $\\alpha_{Sun}^{[0]}$.\n",
    "\n",
    "### Вычисление удалённости положения объекта от Солнечной эклиптики\n",
    "\n",
    "Здесь тоже всё относительно просто: необходимы $\\delta$-координаты Солнца в момент соединения и объекта, из координаты Солнца вычитаем координату объекта, получаем расстояние, на котором объект отстоит от Солнца по данной координате:\n",
    "$$\\rho(\\text{Sun}, \\text{obj}) = \\delta_{\\text{Sun}} - \\delta_{\\text{obj}},$$\n",
    "т.к. $\\alpha$-координаты в момент соединения совпадают. Координаты $\\delta_{\\text{obj}}$ для астрономических объектов доступны из астрономических каталогов. С Dec-координатой для Слнца приходится немного сложнее.\n",
    "\n",
    "\n",
    "Существуют формулы для приближённого вычисления склонения Солнца в зависимости от дня в году и времени суток. Здесь была использована следующая формула:\n",
    "$$\\delta \\approx \\frac{\\pi}{180} \\arcsin\\left[ \\sin\\left(-23.44^o \\frac{\\pi}{180}\\right) \\cos\\left(\\frac{2 \\pi}{365.24}(N+10) + 2 \\cdot 0.0167 \\cdot \\sin\\left(\\frac{2 \\pi}{365.24} (N-2)\\right)\\right) \\right]$$\n",
    "\n",
    "Параметр N изменяется от 0 до 365(366), при этом полагается изменяющимся непрерывно. Это даёт возможность учитывать суточное время. Так, для 12 часов 1.01 числа $N=0.5$.\n",
    "\n",
    "\n"
   ]
  },
  {
   "cell_type": "code",
   "execution_count": null,
   "metadata": {
    "collapsed": false,
    "scrolled": false
   },
   "outputs": [],
   "source": [
    "from suneph import alex_se\n",
    "from compute import *\n",
    "from utils import parse_date, parse_coord\n",
    "import time\n",
    "\n",
    "from vdb import process_vdb\n",
    "\n",
    "day = 19#int(time.strftime(\"%d\"))\n",
    "month = 9#int(time.strftime(\"%m\"))\n",
    "year = int('20' + time.strftime('%y'))\n",
    "\n",
    "records = alex_se(loadfile = 'sun_ephemeris.npz')\n",
    "\n",
    "sun = []\n",
    "for i in xrange(len(records[0])):\n",
    "    sun.append([parse_date(records[0][i]), parse_coord(records[1][i], 'ra'), parse_coord(records[2][i], 'deg')])\n",
    "\n",
    "for ind, row in enumerate(sun):\n",
    "    if [day, month, year] in row:\n",
    "        break\n",
    "\n",
    "ra_interest = str(sun[ind-1][1]) + '..' + str(sun[ind+1][1])\n",
    "a = sun[ind-1][2]\n",
    "b = sun[ind+1][2]\n",
    "if a.f2s() < b.f2s():\n",
    "    c = a\n",
    "    d = b\n",
    "else:\n",
    "    c = b\n",
    "    d = a\n",
    "    \n",
    "phi = coord(15,0,0,1,'deg')\n",
    "\n",
    "dec_interest = str(c - phi) + '..' + str(d + phi)\n",
    "print day, month,year\n",
    "print \"Ra  of interest:\", ra_interest\n",
    "print \"Dec of interest:\", dec_interest\n",
    "print\n",
    "\n",
    "ra_interest = ra_interest.replace(' ', '')\n",
    "dec_interest = dec_interest.replace(' ', '')\n",
    "\n",
    "print \"Catalogue V50: stars with m <= 6.5\"\n",
    "process_vdb('V/50', ['Name', 'HD', 'Vmag'], sun, ind, ra_interest, dec_interest)\n",
    "\n",
    "print \"\\nCatalogue VII/239A/icpos: mean position of NGC/IC objects\"\n",
    "process_vdb('VII/239A/icpos', ['NGC/IC'], sun, ind, ra_interest, dec_interest)"
   ]
  },
  {
   "cell_type": "code",
   "execution_count": null,
   "metadata": {
    "collapsed": false,
    "scrolled": true
   },
   "outputs": [],
   "source": [
    "from astroquery.simbad import Simbad\n",
    "#ra_interest = ra_interest.split('..')\n",
    "#dec_interest = dec_interest.split('..')\n",
    "\n",
    "ra_interest = [(sun[ind-1][1]).f2hd(), (sun[ind+1][1]).f2hd()]\n",
    "dec_interest = [(c - phi).f2hd(), (d + phi).f2hd()]\n",
    "\n",
    "customSimbad = Simbad()\n",
    "customSimbad.add_votable_fields('gen')\n",
    "\n",
    "result = customSimbad.query_criteria('rah > '+ str(ra_interest[0]) + ' & ' + 'rah < ' + str(ra_interest[1])+ ' & '+ 'dec > '+ str(dec_interest[0]) + ' & ' + 'dec < ' + str(dec_interest[1]))\n",
    "print 'rah > '+ str(ra_interest[0]) + ' & ' + 'rah < ' + str(ra_interest[1])+ ' & '+ 'dec > '+ str(dec_interest[0]) + ' & ' + 'dec < ' + str(dec_interest[1])\n",
    "print result"
   ]
  },
  {
   "cell_type": "markdown",
   "metadata": {},
   "source": [
    "## График функции приближённого склонения Солнца\n",
    "\n",
    "[Nmin, Nmax] - отрезок числа дней, для которых будет построен график.\n",
    "\n",
    "step - шаг по времени. По умолчанию выбрали в один час [step = 1 / 24]"
   ]
  },
  {
   "cell_type": "code",
   "execution_count": null,
   "metadata": {
    "collapsed": false
   },
   "outputs": [],
   "source": [
    "%matplotlib inline\n",
    "\n",
    "import matplotlib.pyplot as plt\n",
    "import numpy as np\n",
    "\n",
    "Nmin = 0\n",
    "Nmax = 365*2\n",
    "step = 1. / 24.\n",
    "\n",
    "def sundec(N):\n",
    "    tmp = np.sin(-23.44 * np.pi / 180)\n",
    "    tmp *= np.cos(2*np.pi / 365.24 * ( N + 10) + 2*0.0167*np.sin(2*np.pi / 365.24*(N-2)))\n",
    "    return np.arcsin(tmp)*180/np.pi\n",
    "\n",
    "N = np.arange(Nmin, Nmax, step)\n",
    "f = sundec(N)\n",
    "\n",
    "plt.plot(N, f)\n",
    "plt.xlabel('Day')\n",
    "plt.ylabel('Delta')"
   ]
  },
  {
   "cell_type": "code",
   "execution_count": null,
   "metadata": {
    "collapsed": true
   },
   "outputs": [],
   "source": []
  }
 ],
 "metadata": {
  "kernelspec": {
   "display_name": "Python 2",
   "language": "python",
   "name": "python2"
  },
  "language_info": {
   "codemirror_mode": {
    "name": "ipython",
    "version": 2
   },
   "file_extension": ".py",
   "mimetype": "text/x-python",
   "name": "python",
   "nbconvert_exporter": "python",
   "pygments_lexer": "ipython2",
   "version": "2.7.10"
  }
 },
 "nbformat": 4,
 "nbformat_minor": 0
}
